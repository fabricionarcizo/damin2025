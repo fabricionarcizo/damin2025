{
 "cells": [
  {
   "cell_type": "markdown",
   "id": "01f8128e",
   "metadata": {},
   "source": [
    "# Data Types Demonstration\n",
    "\n",
    "This notebook demonstrates different data types and how to handle them."
   ]
  },
  {
   "cell_type": "markdown",
   "id": "fe9a918a",
   "metadata": {},
   "source": [
    "## Import Required Libraries\n",
    "\n",
    "Import the necessary libraries including pandas, numpy, and matplotlib."
   ]
  },
  {
   "cell_type": "code",
   "execution_count": 1,
   "id": "a8c8bfe6",
   "metadata": {},
   "outputs": [],
   "source": [
    "# Import the required libraries.\n",
    "import matplotlib.pyplot as plt\n",
    "import numpy as np\n",
    "import pandas as pd"
   ]
  },
  {
   "cell_type": "markdown",
   "id": "92cabac0",
   "metadata": {},
   "source": [
    "## Helper Function: Render DataFrame as Table\n",
    "\n",
    "This function displays a DataFrame as a nicely formatted table with colored cells."
   ]
  },
  {
   "cell_type": "code",
   "execution_count": 2,
   "id": "7596ce8a",
   "metadata": {},
   "outputs": [],
   "source": [
    "def render_mpl_table(\n",
    "        data: pd.DataFrame, col_width: float = 4.0, row_height: float = 0.625,\n",
    "        font_size: int = 14, header_color: str = \"#179E86\",\n",
    "        row_colors: list = [\"#f1f1f2\", \"#ffffff\"], edge_color: str = \"black\",\n",
    "        bbox: list = [0, 0, 1, 1], header_font_color: str = \"white\",\n",
    "        ax: plt.Axes = None, **kwargs) -> plt.Axes:\n",
    "    \"\"\"Function to display the DataFrame as a table with colored cells.\n",
    "\n",
    "    Args:\n",
    "        data (pd.DataFrame): The DataFrame to be displayed as a table.\n",
    "        col_width (float, optional): The width of the columns. Defaults to 4.0.\n",
    "        row_height (float, optional): The height of the rows. Defaults to 0.625.\n",
    "        font_size (int, optional): The font size. Defaults to 14.\n",
    "        header_color (str, optional): The color of the header. Defaults to\n",
    "            \"#179E86\".\n",
    "        row_colors (list, optional): The colors of the rows. Defaults to\n",
    "            [\"#f1f1f2\", \"#ffffff\"].\n",
    "        edge_color (str, optional): The color of the edges. Defaults to \"black\".\n",
    "        bbox (list, optional): The bounding box. Defaults to [0, 0, 1, 1].\n",
    "        header_font_color (str, optional): The color of the header font.\n",
    "            Defaults to \"white\".\n",
    "        ax (plt.Axes, optional): The axes to be used. Defaults to None.\n",
    "\n",
    "    Returns:\n",
    "        plt.Axes: The axes with the table.\n",
    "    \"\"\"\n",
    "\n",
    "    # Create the figure and axes if not provided.\n",
    "    if ax is None:\n",
    "        size = (np.array(data.shape[::-1]) + np.array([0, 1])) * \\\n",
    "            np.array([col_width, row_height])\n",
    "        _, ax = plt.subplots(figsize=size)\n",
    "        ax.axis(\"off\")\n",
    "\n",
    "    # Create the table.\n",
    "    mpl_table = ax.table(\n",
    "        cellText=data.values, bbox=bbox,\n",
    "        colLabels=data.columns, **kwargs\n",
    "    )\n",
    "\n",
    "    # Set the font size.\n",
    "    mpl_table.auto_set_font_size(False)\n",
    "    mpl_table.set_fontsize(font_size)\n",
    "\n",
    "    # Styling the table.\n",
    "    for k, cell in mpl_table._cells.items():\n",
    "        cell.set_edgecolor(edge_color)\n",
    "\n",
    "        # Header row.\n",
    "        if k[0] == 0:\n",
    "            cell.set_text_props(weight=\"bold\", color=header_font_color)\n",
    "            cell.set_facecolor(header_color)\n",
    "\n",
    "        # Alternate row coloring\n",
    "        else:\n",
    "            cell.set_facecolor(row_colors[k[0] % len(row_colors)])\n",
    "\n",
    "    return ax"
   ]
  },
  {
   "cell_type": "markdown",
   "id": "71cf8058",
   "metadata": {},
   "source": [
    "## Create Sample Dataset\n",
    "\n",
    "Create a DataFrame to illustrate different data types including binary, nominal, ordinal, interval, and ratio data."
   ]
  },
  {
   "cell_type": "code",
   "execution_count": 3,
   "id": "001504db",
   "metadata": {},
   "outputs": [
    {
     "name": "stdout",
     "output_type": "stream",
     "text": [
      "Illustrating Different Data Types:\n",
      "\n",
      "   Binary_Choice  Nominal_ID  Ordinal_Rating  Temperature_C  Income_USD  \\\n",
      "0              0         101               1           36.6       25000   \n",
      "1              1         102               3           37.1       48000   \n",
      "2              0         103               2           38.5      120000   \n",
      "3              1         101               5           36.8       34000   \n",
      "4              1         104               4           37.0       56000   \n",
      "\n",
      "  Education_Level  Gender  \n",
      "0     High School    Male  \n",
      "1        Bachelor  Female  \n",
      "2          Master  Female  \n",
      "3        Bachelor    Male  \n",
      "4             PhD  Female  \n"
     ]
    }
   ],
   "source": [
    "# Creating a DataFrame to illustrate different data types.\n",
    "data = {\n",
    "    # Numerical Data (Discrete).\n",
    "    # Binary data (two possible values).\n",
    "    \"Binary_Choice\": [0, 1, 0, 1, 1],\n",
    "    # Nominal discrete data (IDs, no order).\n",
    "    \"Nominal_ID\": [101, 102, 103, 101, 104],\n",
    "    # Ordinal discrete data (ratings with a meaningful order)\n",
    "    \"Ordinal_Rating\": [1, 3, 2, 5, 4],\n",
    "\n",
    "    # Numerical Data (Continuous).\n",
    "    # Interval data (temperature with no true zero point).\n",
    "    \"Temperature_C\": [36.6, 37.1, 38.5, 36.8, 37.0],\n",
    "    # Ratio data (Income with a true zero point).\n",
    "    \"Income_USD\": [25000, 48000, 120000, 34000, 56000],\n",
    "\n",
    "    # Categorical Data.\n",
    "    # Ordinal categorical data (has a meaningful order).\n",
    "    # Nominal categorical data (no order).\n",
    "    \"Education_Level\": [\"High School\", \"Bachelor\", \"Master\", \"Bachelor\", \"PhD\"],\n",
    "    \"Gender\": [\"Male\", \"Female\", \"Female\", \"Male\", \"Female\"]\n",
    "}\n",
    "\n",
    "df = pd.DataFrame(data)\n",
    "print(\"Illustrating Different Data Types:\\n\")\n",
    "print(df)"
   ]
  },
  {
   "cell_type": "markdown",
   "id": "3a2e5f45",
   "metadata": {},
   "source": [
    "## Data Type Analysis\n",
    "\n",
    "Let's examine each type of data in our dataset and understand their characteristics."
   ]
  },
  {
   "cell_type": "code",
   "execution_count": 4,
   "id": "d598387b",
   "metadata": {},
   "outputs": [
    {
     "name": "stdout",
     "output_type": "stream",
     "text": [
      "\n",
      "Data Type Explanation:\n",
      "\n",
      "Binary Data (Discrete):\n",
      "   Binary_Choice\n",
      "0              0\n",
      "1              1\n",
      "2              0\n",
      "3              1\n",
      "4              1\n"
     ]
    }
   ],
   "source": [
    "# Explaining Data Types.\n",
    "print(\"\\nData Type Explanation:\")\n",
    "\n",
    "# Binary (Discrete).\n",
    "print(\"\\nBinary Data (Discrete):\")\n",
    "print(df[[\"Binary_Choice\"]])"
   ]
  },
  {
   "cell_type": "code",
   "execution_count": 5,
   "id": "2433df02",
   "metadata": {},
   "outputs": [
    {
     "name": "stdout",
     "output_type": "stream",
     "text": [
      "\n",
      "Nominal Data (Discrete and Categorical):\n",
      "   Nominal_ID  Gender\n",
      "0         101    Male\n",
      "1         102  Female\n",
      "2         103  Female\n",
      "3         101    Male\n",
      "4         104  Female\n"
     ]
    }
   ],
   "source": [
    "# Nominal Data (Discrete and Categorical).\n",
    "print(\"\\nNominal Data (Discrete and Categorical):\")\n",
    "print(df[[\"Nominal_ID\", \"Gender\"]])"
   ]
  },
  {
   "cell_type": "code",
   "execution_count": 6,
   "id": "2fdcf3e9",
   "metadata": {},
   "outputs": [
    {
     "name": "stdout",
     "output_type": "stream",
     "text": [
      "\n",
      "Ordinal Data (Discrete and Categorical):\n",
      "   Ordinal_Rating Education_Level\n",
      "0               1     High School\n",
      "1               3        Bachelor\n",
      "2               2          Master\n",
      "3               5        Bachelor\n",
      "4               4             PhD\n"
     ]
    }
   ],
   "source": [
    "# Ordinal Data (Discrete and Categorical).\n",
    "print(\"\\nOrdinal Data (Discrete and Categorical):\")\n",
    "print(df[[\"Ordinal_Rating\", \"Education_Level\"]])"
   ]
  },
  {
   "cell_type": "code",
   "execution_count": 7,
   "id": "883eae47",
   "metadata": {},
   "outputs": [
    {
     "name": "stdout",
     "output_type": "stream",
     "text": [
      "\n",
      "Interval Data (Continuous - Temperature):\n",
      "   Temperature_C\n",
      "0           36.6\n",
      "1           37.1\n",
      "2           38.5\n",
      "3           36.8\n",
      "4           37.0\n",
      "\n",
      "Ratio Data (Continuous - Income):\n",
      "   Income_USD\n",
      "0       25000\n",
      "1       48000\n",
      "2      120000\n",
      "3       34000\n",
      "4       56000\n"
     ]
    }
   ],
   "source": [
    "# Continuous Data (Interval and Ratio).\n",
    "print(\"\\nInterval Data (Continuous - Temperature):\")\n",
    "print(df[[\"Temperature_C\"]])\n",
    "\n",
    "print(\"\\nRatio Data (Continuous - Income):\")\n",
    "print(df[[\"Income_USD\"]])"
   ]
  },
  {
   "cell_type": "markdown",
   "id": "ba993bf3",
   "metadata": {},
   "source": [
    "## Visualize Data as Table\n",
    "\n",
    "Display the complete dataset as a formatted table using our custom rendering function."
   ]
  },
  {
   "cell_type": "code",
   "execution_count": 8,
   "id": "56e03b2d",
   "metadata": {},
   "outputs": [
    {
     "data": {
      "image/png": "[encoded data removed]",
      "text/plain": [
       "<Figure size 2800x375 with 1 Axes>"
      ]
     },
     "metadata": {},
     "output_type": "display_data"
    }
   ],
   "source": [
    "# Render the table.\n",
    "render_mpl_table(df)\n",
    "plt.show()"
   ]
  }
 ],
 "metadata": {
  "kernelspec": {
   "display_name": "damin2025",
   "language": "python",
   "name": "python3"
  },
  "language_info": {
   "codemirror_mode": {
    "name": "ipython",
    "version": 3
   },
   "file_extension": ".py",
   "mimetype": "text/x-python",
   "name": "python",
   "nbconvert_exporter": "python",
   "pygments_lexer": "ipython3",
   "version": "3.12.11"
  }
 },
 "nbformat": 4,
 "nbformat_minor": 5
}
