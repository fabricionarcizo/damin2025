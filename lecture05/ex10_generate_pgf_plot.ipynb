{
 "cells": [
  {
   "cell_type": "markdown",
   "id": "c67cb38a",
   "metadata": {},
   "source": [
    "# Generate PGF Plot for LaTeX\n",
    "\n",
    "This notebook demonstrates how to generate PGF (Portable Graphics Format) plots that can be directly included in LaTeX documents. PGF plots maintain vector quality and use consistent fonts with your LaTeX document.\n",
    "\n",
    "**Key Benefits:**\n",
    "- Vector graphics that scale perfectly\n",
    "- Consistent fonts with LaTeX documents\n",
    "- Small file sizes\n",
    "- Professional publication quality"
   ]
  },
  {
   "cell_type": "markdown",
   "id": "a3f24c7d",
   "metadata": {},
   "source": [
    "## Import Required Libraries\n",
    "\n",
    "Import NumPy for mathematical operations and matplotlib for plotting with PGF backend configuration."
   ]
  },
  {
   "cell_type": "code",
   "execution_count": 1,
   "id": "fb7efcff",
   "metadata": {},
   "outputs": [],
   "source": [
    "import numpy as np\n",
    "import matplotlib as mpl\n",
    "import matplotlib.pyplot as plt"
   ]
  },
  {
   "cell_type": "markdown",
   "id": "b360e174",
   "metadata": {},
   "source": [
    "## Configure PGF Backend\n",
    "\n",
    "Configure matplotlib to use the PGF backend with LaTeX text rendering for publication-quality output."
   ]
  },
  {
   "cell_type": "code",
   "execution_count": 2,
   "id": "211b4530",
   "metadata": {},
   "outputs": [],
   "source": [
    "mpl.use(\"pgf\")  # use PGF backend\n",
    "\n",
    "# Update matplotlib parameters for LaTeX compatibility\n",
    "mpl.rcParams.update({\n",
    "    \"pgf.rcfonts\": False,         # don't override LaTeX fonts\n",
    "    \"text.usetex\": True,          # LaTeX for all text\n",
    "    \"font.family\": \"serif\",       # match your LaTeX doc\n",
    "    \"font.size\": 18,              # will scale nicely in LaTeX\n",
    "})"
   ]
  },
  {
   "cell_type": "markdown",
   "id": "601230ad",
   "metadata": {},
   "source": [
    "## Generate Data and Create Plot\n",
    "\n",
    "Create a sine wave plot with proper mathematical notation using LaTeX formatting."
   ]
  },
  {
   "cell_type": "code",
   "execution_count": 3,
   "id": "c6a3e75c",
   "metadata": {},
   "outputs": [],
   "source": [
    "# Generate x values from 0 to 2π\n",
    "x = np.linspace(0, 2 * np.pi, 400)\n",
    "\n",
    "# Create the plot\n",
    "plt.figure(figsize=(8, 6))    # ~ column width in inches\n",
    "plt.plot(x, np.sin(x), label=r\"$\\sin(x)$\")\n",
    "plt.xlabel(r\"$x$\")\n",
    "plt.ylabel(\"Amplitude\")\n",
    "plt.legend()\n",
    "plt.tight_layout()"
   ]
  },
  {
   "cell_type": "markdown",
   "id": "4c2a9a3a",
   "metadata": {},
   "source": [
    "## Save as PGF File\n",
    "\n",
    "Save the plot as a PGF file that can be included in LaTeX documents using `\\input{sine.pgf}`."
   ]
  },
  {
   "cell_type": "code",
   "execution_count": 4,
   "id": "18117d36",
   "metadata": {},
   "outputs": [
    {
     "name": "stdout",
     "output_type": "stream",
     "text": [
      "PGF plot saved to './latex/sine.pgf'\n",
      "Include in LaTeX with: \\input{sine.pgf}\n"
     ]
    }
   ],
   "source": [
    "# Save the plot as PGF file for LaTeX inclusion\n",
    "plt.savefig(\"./latex/sine.pgf\")  # <-- key line for PGF export\n",
    "\n",
    "print(\"PGF plot saved to './latex/sine.pgf'\")\n",
    "print(\"Include in LaTeX with: \\\\input{sine.pgf}\")"
   ]
  },
  {
   "cell_type": "markdown",
   "id": "a9e4b949",
   "metadata": {},
   "source": [
    "## Usage in LaTeX\n",
    "\n",
    "To use this PGF plot in your LaTeX document:\n",
    "\n",
    "1. **Add to preamble:**\n",
    "   ```latex\n",
    "   \\usepackage{pgf}\n",
    "   ```\n",
    "\n",
    "2. **Include the plot:**\n",
    "   ```latex\n",
    "   \\begin{figure}[h]\n",
    "       \\centering\n",
    "       \\input{sine.pgf}\n",
    "       \\caption{Sine wave generated with matplotlib PGF backend}\n",
    "       \\label{fig:sine}\n",
    "   \\end{figure}\n",
    "   ```\n",
    "\n",
    "**Advantages of PGF format:**\n",
    "- Fonts match your LaTeX document exactly\n",
    "- Mathematical expressions render consistently\n",
    "- Vector graphics scale without quality loss\n",
    "- Smaller file sizes than raster images\n",
    "- Professional publication quality"
   ]
  }
 ],
 "metadata": {
  "kernelspec": {
   "display_name": "damin2025",
   "language": "python",
   "name": "python3"
  },
  "language_info": {
   "codemirror_mode": {
    "name": "ipython",
    "version": 3
   },
   "file_extension": ".py",
   "mimetype": "text/x-python",
   "name": "python",
   "nbconvert_exporter": "python",
   "pygments_lexer": "ipython3",
   "version": "3.12.11"
  }
 },
 "nbformat": 4,
 "nbformat_minor": 5
}
