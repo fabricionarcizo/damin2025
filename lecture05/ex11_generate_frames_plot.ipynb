{
 "cells": [
  {
   "cell_type": "markdown",
   "id": "a81ef115",
   "metadata": {},
   "source": [
    "# Generate Animation Frames for Sine Wave\n",
    "\n",
    "This notebook demonstrates how to generate multiple frames of a sine wave with different phase shifts that can be used to create animations or presentations. Each frame shows the sine function with a progressive phase shift, creating a smooth animated effect when combined.\n",
    "\n",
    "**Applications:**\n",
    "- Creating animated plots for presentations\n",
    "- Generating frames for LaTeX beamer animations\n",
    "- Educational demonstrations of wave motion\n",
    "- Time-series visualization"
   ]
  },
  {
   "cell_type": "markdown",
   "id": "333fe863",
   "metadata": {},
   "source": [
    "## Import Required Libraries\n",
    "\n",
    "Import the necessary libraries for mathematical operations, plotting, and file path management."
   ]
  },
  {
   "cell_type": "code",
   "execution_count": 1,
   "id": "d73f1e52",
   "metadata": {},
   "outputs": [],
   "source": [
    "import numpy as np\n",
    "import matplotlib as mpl\n",
    "import matplotlib.pyplot as plt\n",
    "from pathlib import Path"
   ]
  },
  {
   "cell_type": "markdown",
   "id": "8f5bbc52",
   "metadata": {},
   "source": [
    "## Configure Matplotlib for LaTeX Compatibility\n",
    "\n",
    "Set up matplotlib parameters to ensure compatibility with LaTeX documents and professional appearance."
   ]
  },
  {
   "cell_type": "code",
   "execution_count": 2,
   "id": "ecc0e99b",
   "metadata": {},
   "outputs": [],
   "source": [
    "# Update matplotlib parameters for LaTeX compatibility\n",
    "mpl.rcParams.update({\n",
    "    \"pgf.rcfonts\": False,         # don't override LaTeX fonts\n",
    "    \"text.usetex\": True,          # LaTeX for all text\n",
    "    \"font.family\": \"serif\",       # match your LaTeX doc\n",
    "    \"font.size\": 18,              # will scale nicely in LaTeX\n",
    "})"
   ]
  },
  {
   "cell_type": "markdown",
   "id": "51888bcf",
   "metadata": {},
   "source": [
    "## Setup Output Directory\n",
    "\n",
    "Create the output directory where all generated frames will be saved."
   ]
  },
  {
   "cell_type": "code",
   "execution_count": 3,
   "id": "dcdf05aa",
   "metadata": {},
   "outputs": [
    {
     "name": "stdout",
     "output_type": "stream",
     "text": [
      "Output directory created: latex/frames\n"
     ]
    }
   ],
   "source": [
    "# Create output directory for frames\n",
    "out = Path(\"latex/frames\")\n",
    "out.mkdir(exist_ok=True)\n",
    "\n",
    "print(f\"Output directory created: {out}\")"
   ]
  },
  {
   "cell_type": "markdown",
   "id": "7382b2b3",
   "metadata": {},
   "source": [
    "## Generate Data and Animation Parameters\n",
    "\n",
    "Define the x-axis values and phase shift parameters for creating the animation frames."
   ]
  },
  {
   "cell_type": "code",
   "execution_count": 4,
   "id": "ca86e3f1",
   "metadata": {},
   "outputs": [
    {
     "name": "stdout",
     "output_type": "stream",
     "text": [
      "Generating 121 frames with phase shifts from 0 to 2π\n",
      "Phase step: 0.0524 radians\n"
     ]
    }
   ],
   "source": [
    "# Generate x values from 0 to 2π\n",
    "x = np.linspace(0, 2 * np.pi, 400)\n",
    "\n",
    "# Define animation parameters\n",
    "num_frames = 121\n",
    "phase_shifts = np.linspace(0, 2 * np.pi, num_frames)\n",
    "\n",
    "print(f\"Generating {num_frames} frames with phase shifts from 0 to 2π\")\n",
    "print(f\"Phase step: {phase_shifts[1] - phase_shifts[0]:.4f} radians\")"
   ]
  },
  {
   "cell_type": "markdown",
   "id": "90c87e35",
   "metadata": {},
   "source": [
    "## Generate Animation Frames\n",
    "\n",
    "Create individual frames with progressive phase shifts of the sine wave. Each frame is saved as a separate PDF file."
   ]
  },
  {
   "cell_type": "code",
   "execution_count": 5,
   "id": "1817badd",
   "metadata": {},
   "outputs": [
    {
     "name": "stdout",
     "output_type": "stream",
     "text": [
      "Generated frame 1/121\n",
      "Generated frame 20/121\n",
      "Generated frame 20/121\n",
      "Generated frame 40/121\n",
      "Generated frame 40/121\n",
      "Generated frame 60/121\n",
      "Generated frame 60/121\n",
      "Generated frame 80/121\n",
      "Generated frame 80/121\n",
      "Generated frame 100/121\n",
      "Generated frame 100/121\n",
      "Generated frame 120/121\n",
      "\n",
      "All 121 frames generated successfully!\n",
      "Files saved in: latex/frames\n",
      "Generated frame 120/121\n",
      "\n",
      "All 121 frames generated successfully!\n",
      "Files saved in: latex/frames\n"
     ]
    }
   ],
   "source": [
    "# Generate 121 frames: phase shifts from 0 to 2π.\n",
    "for i, phase in enumerate(phase_shifts):\n",
    "    fig, ax = plt.subplots(figsize=(8, 6))  # ~column width\n",
    "    \n",
    "    # Plot sine wave with current phase shift\n",
    "    ax.plot(\n",
    "        x, np.sin(x + phase),\n",
    "        label=rf\"$\\sin(x{('+' if phase>=0 else '')}{phase:.2f})$\"\n",
    "    )\n",
    "    \n",
    "    # Set labels and formatting\n",
    "    ax.set_xlabel(r\"$x$\")\n",
    "    ax.set_ylabel(\"Amplitude\")\n",
    "    ax.legend(loc=\"upper right\")\n",
    "    fig.tight_layout()\n",
    "    \n",
    "    # Save frame as PDF (vector format - preferred for quality)\n",
    "    fig.savefig(out / f\"sine_{i:03d}.pdf\")\n",
    "    \n",
    "    # Alternative: save as PNG (raster format)\n",
    "    # fig.savefig(out / f\"sine_{i:03d}.png\")\n",
    "    \n",
    "    plt.close(fig)\n",
    "    \n",
    "    # Progress indicator\n",
    "    if (i + 1) % 20 == 0 or i == 0:\n",
    "        print(f\"Generated frame {i+1}/{num_frames}\")\n",
    "\n",
    "print(f\"\\nAll {num_frames} frames generated successfully!\")\n",
    "print(f\"Files saved in: {out}\")"
   ]
  },
  {
   "cell_type": "markdown",
   "id": "2e60d3f8",
   "metadata": {},
   "source": [
    "## Preview a Sample Frame\n",
    "\n",
    "Let's create and display one sample frame to see what the output looks like."
   ]
  },
  {
   "cell_type": "code",
   "execution_count": 6,
   "id": "bf82cf5d",
   "metadata": {},
   "outputs": [
    {
     "data": {
      "image/png": "[encoded data removed]",
      "text/plain": [
       "<Figure size 800x600 with 1 Axes>"
      ]
     },
     "metadata": {},
     "output_type": "display_data"
    }
   ],
   "source": [
    "# Create a sample frame for preview\n",
    "sample_phase = np.pi / 4  # 45 degrees phase shift\n",
    "\n",
    "plt.figure(figsize=(8, 6))\n",
    "plt.plot(x, np.sin(x + sample_phase), label=rf\"$\\sin(x + {sample_phase:.2f})$\")\n",
    "plt.xlabel(r\"$x$\")\n",
    "plt.ylabel(\"Amplitude\")\n",
    "plt.legend()\n",
    "plt.title(r\"Sample Frame (Phase shift = $\\pi/4$)\")\n",
    "plt.grid(True, alpha=0.3)\n",
    "plt.tight_layout()\n",
    "plt.show()"
   ]
  },
  {
   "cell_type": "markdown",
   "id": "5403a10e",
   "metadata": {},
   "source": [
    "## Creating Animations from Frames\n",
    "\n",
    "Here are different ways to use the generated frames:\n",
    "\n",
    "### 1. LaTeX Beamer Animation\n",
    "```latex\n",
    "\\begin{frame}{Animated Sine Wave}\n",
    "    \\animategraphics[loop,controls,width=\\textwidth]{10}{frames/sine_}{000}{120}\n",
    "\\end{frame}\n",
    "```\n",
    "\n",
    "### 2. Create GIF with ImageMagick\n",
    "```bash\n",
    "convert -delay 8 -loop 0 frames/sine_*.pdf sine_animation.gif\n",
    "```\n",
    "\n",
    "### 3. Create MP4 with FFmpeg\n",
    "```bash\n",
    "ffmpeg -framerate 15 -i frames/sine_%03d.pdf -c:v libx264 sine_animation.mp4\n",
    "```\n",
    "\n",
    "### 4. Python Animation (Alternative Method)\n",
    "For direct Python animation, consider using `matplotlib.animation.FuncAnimation` for real-time animations.\n",
    "\n",
    "**Frame Generation Benefits:**\n",
    "- High-quality vector graphics (PDF format)\n",
    "- Compatible with LaTeX presentations\n",
    "- Can be converted to various animation formats\n",
    "- Suitable for academic presentations and publications\n",
    "- Frame-by-frame control for precise timing"
   ]
  }
 ],
 "metadata": {
  "kernelspec": {
   "display_name": "damin2025",
   "language": "python",
   "name": "python3"
  },
  "language_info": {
   "codemirror_mode": {
    "name": "ipython",
    "version": 3
   },
   "file_extension": ".py",
   "mimetype": "text/x-python",
   "name": "python",
   "nbconvert_exporter": "python",
   "pygments_lexer": "ipython3",
   "version": "3.12.11"
  }
 },
 "nbformat": 4,
 "nbformat_minor": 5
}
