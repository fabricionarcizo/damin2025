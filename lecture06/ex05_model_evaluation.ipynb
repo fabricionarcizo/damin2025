{
 "cells": [
  {
   "cell_type": "markdown",
   "id": "4048f3e7",
   "metadata": {},
   "source": [
    "# Model Evaluation Metrics\n",
    "\n",
    "This notebook demonstrates how to evaluate a machine learning model using key classification metrics: accuracy, precision, recall, and F1-score. These metrics help assess the performance of classification models."
   ]
  },
  {
   "cell_type": "markdown",
   "id": "ebce91a6",
   "metadata": {},
   "source": [
    "## Import Required Libraries\n",
    "\n",
    "Import scikit-learn metrics functions for model evaluation."
   ]
  },
  {
   "cell_type": "code",
   "execution_count": 1,
   "id": "26a56ed9",
   "metadata": {},
   "outputs": [],
   "source": [
    "# Import the required libraries.\n",
    "from sklearn.metrics import (accuracy_score, precision_score,\n",
    "                             recall_score, f1_score)"
   ]
  },
  {
   "cell_type": "markdown",
   "id": "8a2627b3",
   "metadata": {},
   "source": [
    "## Sample Data\n",
    "\n",
    "Define sample predicted labels and true labels for demonstration purposes."
   ]
  },
  {
   "cell_type": "code",
   "execution_count": 2,
   "id": "4b7a28b6",
   "metadata": {},
   "outputs": [],
   "source": [
    "# Assuming you have your predicted labels and true labels stored in variables.\n",
    "predicted_labels = [0, 1, 1, 0, 1, 1, 1, 0, 0]\n",
    "true_labels = [0, 1, 0, 1, 1, 1, 1, 0, 1]"
   ]
  },
  {
   "cell_type": "markdown",
   "id": "ba7c7182",
   "metadata": {},
   "source": [
    "## Calculate Accuracy\n",
    "\n",
    "Accuracy measures the proportion of correct predictions out of all predictions made."
   ]
  },
  {
   "cell_type": "code",
   "execution_count": 3,
   "id": "ef004248",
   "metadata": {},
   "outputs": [
    {
     "name": "stdout",
     "output_type": "stream",
     "text": [
      "Accuracy: 0.6666666666666666\n"
     ]
    }
   ],
   "source": [
    "# Calculate accuracy.\n",
    "accuracy = accuracy_score(true_labels, predicted_labels)\n",
    "print(\"Accuracy:\", accuracy)"
   ]
  },
  {
   "cell_type": "markdown",
   "id": "8fc9ad47",
   "metadata": {},
   "source": [
    "## Calculate Precision\n",
    "\n",
    "Precision measures the proportion of true positive predictions out of all positive predictions made."
   ]
  },
  {
   "cell_type": "code",
   "execution_count": 4,
   "id": "562d6013",
   "metadata": {},
   "outputs": [
    {
     "name": "stdout",
     "output_type": "stream",
     "text": [
      "Precision: 0.8\n"
     ]
    }
   ],
   "source": [
    "# Calculate precision.\n",
    "precision = precision_score(true_labels, predicted_labels)\n",
    "print(\"Precision:\", precision)"
   ]
  },
  {
   "cell_type": "markdown",
   "id": "896ca5a4",
   "metadata": {},
   "source": [
    "## Calculate Recall\n",
    "\n",
    "Recall (also called sensitivity) measures the proportion of true positive predictions out of all actual positive instances."
   ]
  },
  {
   "cell_type": "code",
   "execution_count": 5,
   "id": "d3cd4873",
   "metadata": {},
   "outputs": [
    {
     "name": "stdout",
     "output_type": "stream",
     "text": [
      "Recall: 0.6666666666666666\n"
     ]
    }
   ],
   "source": [
    "# Calculate recall.\n",
    "recall = recall_score(true_labels, predicted_labels)\n",
    "print(\"Recall:\", recall)"
   ]
  },
  {
   "cell_type": "markdown",
   "id": "650cb982",
   "metadata": {},
   "source": [
    "## Calculate F1-Score\n",
    "\n",
    "F1-score is the harmonic mean of precision and recall, providing a balanced measure of model performance."
   ]
  },
  {
   "cell_type": "code",
   "execution_count": 6,
   "id": "294cbb08",
   "metadata": {},
   "outputs": [
    {
     "name": "stdout",
     "output_type": "stream",
     "text": [
      "F1-score: 0.7272727272727273\n"
     ]
    }
   ],
   "source": [
    "# Calculate F1-score.\n",
    "f1 = f1_score(true_labels, predicted_labels)\n",
    "print(\"F1-score:\", f1)"
   ]
  },
  {
   "cell_type": "markdown",
   "id": "f314619c",
   "metadata": {},
   "source": [
    "## Understanding the Metrics\n",
    "\n",
    "- **Accuracy**: Overall correctness of predictions\n",
    "- **Precision**: Accuracy of positive predictions (low false positives)\n",
    "- **Recall**: Ability to find all positive instances (low false negatives)\n",
    "- **F1-Score**: Balanced measure combining precision and recall\n",
    "\n",
    "These metrics are essential for evaluating classification model performance, especially when dealing with imbalanced datasets where accuracy alone may be misleading."
   ]
  }
 ],
 "metadata": {
  "kernelspec": {
   "display_name": "damin2025",
   "language": "python",
   "name": "python3"
  },
  "language_info": {
   "codemirror_mode": {
    "name": "ipython",
    "version": 3
   },
   "file_extension": ".py",
   "mimetype": "text/x-python",
   "name": "python",
   "nbconvert_exporter": "python",
   "pygments_lexer": "ipython3",
   "version": "3.12.11"
  }
 },
 "nbformat": 4,
 "nbformat_minor": 5
}
