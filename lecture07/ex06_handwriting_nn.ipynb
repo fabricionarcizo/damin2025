{
 "cells": [
  {
   "cell_type": "markdown",
   "id": "8aef18ba",
   "metadata": {},
   "source": [
    "# Handwriting Neural Network Demonstration\n",
    "\n",
    "This notebook demonstrates a simple neural network model for handwritten digit classification."
   ]
  },
  {
   "cell_type": "markdown",
   "id": "f24e2e4d",
   "metadata": {},
   "source": [
    "## Import Required Libraries\n",
    "\n",
    "Import the necessary libraries including TensorFlow, matplotlib, and numpy."
   ]
  },
  {
   "cell_type": "code",
   "execution_count": null,
   "id": "a13b8bd0",
   "metadata": {},
   "outputs": [],
   "source": [
    "# Import the required libraries.\n",
    "from onnxmltools import convert_keras\n",
    "from onnxmltools.utils import save_model\n",
    "\n",
    "import matplotlib.pyplot as plt\n",
    "import numpy as np\n",
    "import tensorflow as tf\n",
    "\n",
    "from tensorflow.keras.datasets import mnist\n",
    "from tensorflow.keras.models import Sequential\n",
    "from tensorflow.keras.layers import Dense, Flatten\n",
    "from tensorflow.keras.utils import to_categorical\n",
    "from tensorflow.keras.utils import plot_model"
   ]
  },
  {
   "cell_type": "markdown",
   "id": "17e4738c",
   "metadata": {},
   "source": [
    "## Load and Preprocess Data\n",
    "\n",
    "Load the MNIST dataset and preprocess the data for training."
   ]
  },
  {
   "cell_type": "code",
   "execution_count": null,
   "id": "d8b956ac",
   "metadata": {},
   "outputs": [],
   "source": [
    "# Load the dataset.\n",
    "(x_train, y_train), (x_test, y_test) = mnist.load_data()\n",
    "\n",
    "# Determine 10% of the training and test sets.\n",
    "train_size = int(0.1 * len(x_train))\n",
    "test_size = int(0.1 * len(x_test))\n",
    "\n",
    "# Randomly select 10% of the data.\n",
    "np.random.seed(42)  # For reproducibility\n",
    "train_indices = np.random.choice(len(x_train), train_size, replace=False)\n",
    "test_indices = np.random.choice(len(x_test), test_size, replace=False)\n",
    "\n",
    "x_train_small = x_train[train_indices]\n",
    "y_train_small = y_train[train_indices]\n",
    "x_test_small = x_test[test_indices]\n",
    "y_test_small = y_test[test_indices]\n",
    "\n",
    "# Preprocess the data.\n",
    "x_train_small = x_train_small.astype(\"float32\") / 255\n",
    "x_test_small = x_test_small.astype(\"float32\") / 255\n",
    "\n",
    "# Convert labels to categorical one-hot encoding.\n",
    "y_train_small = to_categorical(y_train_small, 10)\n",
    "y_test_small = to_categorical(y_test_small, 10)"
   ]
  },
  {
   "cell_type": "markdown",
   "id": "7f8136a7",
   "metadata": {},
   "source": [
    "## Build Neural Network Model\n",
    "\n",
    "Create a sequential neural network model for digit classification."
   ]
  },
  {
   "cell_type": "code",
   "execution_count": null,
   "id": "c0f807dd",
   "metadata": {},
   "outputs": [],
   "source": [
    "# Build the model.\n",
    "model = Sequential([\n",
    "    Flatten(input_shape=(28, 28)),\n",
    "    Dense(512, activation=\"relu\"),\n",
    "    Dense(256, activation=\"relu\"),\n",
    "    Dense(10, activation=\"softmax\")\n",
    "])\n",
    "\n",
    "# Save the model structure as an image.\n",
    "plot_model(\n",
    "    model, to_file=\"./lecture07/models/mnist_model.png\",\n",
    "    show_shapes=True, show_layer_names=True\n",
    ")"
   ]
  },
  {
   "cell_type": "markdown",
   "id": "eeaa1bba",
   "metadata": {},
   "source": [
    "## Compile and Train Model\n",
    "\n",
    "Compile the model with appropriate optimizer and loss function, then train it."
   ]
  },
  {
   "cell_type": "code",
   "execution_count": null,
   "id": "ba0e1caa",
   "metadata": {},
   "outputs": [],
   "source": [
    "# Compile the model.\n",
    "model.compile(\n",
    "    optimizer=\"adam\", loss=\"categorical_crossentropy\", metrics=[\"accuracy\"]\n",
    ")\n",
    "\n",
    "# Train the model.\n",
    "model.fit(\n",
    "    x_train_small, y_train_small,\n",
    "    epochs=5, batch_size=512, validation_split=0.2\n",
    ")"
   ]
  },
  {
   "cell_type": "markdown",
   "id": "c718097b",
   "metadata": {},
   "source": [
    "## Evaluate Model Performance\n",
    "\n",
    "Evaluate the trained model on the test dataset."
   ]
  },
  {
   "cell_type": "code",
   "execution_count": null,
   "id": "bf889272",
   "metadata": {},
   "outputs": [],
   "source": [
    "# Evaluate the model.\n",
    "test_loss, test_acc = model.evaluate(x_test_small, y_test_small)\n",
    "print(f\"Test accuracy: {test_acc}.\")"
   ]
  },
  {
   "cell_type": "markdown",
   "id": "d948dbc6",
   "metadata": {},
   "source": [
    "## Export Model to ONNX Format\n",
    "\n",
    "Convert the trained model to ONNX format for deployment."
   ]
  },
  {
   "cell_type": "code",
   "execution_count": null,
   "id": "13b1403e",
   "metadata": {},
   "outputs": [],
   "source": [
    "# Convert the model to ONNX format.\n",
    "model.output_names = [ \"output\" ]\n",
    "input_signature = [\n",
    "    tf.TensorSpec(model.inputs[0].shape, model.inputs[0].dtype, name=\"digit\")\n",
    "]\n",
    "onnx_model = convert_keras(model, target_opset=13)\n",
    "\n",
    "# Save the ONNX model to a file.\n",
    "save_model(onnx_model, \"./lecture07/models/mnist_model.onnx\")"
   ]
  },
  {
   "cell_type": "markdown",
   "id": "73c100f9",
   "metadata": {},
   "source": [
    "## Visualize Predictions\n",
    "\n",
    "Show sample test images with actual and predicted labels."
   ]
  },
  {
   "cell_type": "code",
   "execution_count": null,
   "id": "25aba6aa",
   "metadata": {},
   "outputs": [],
   "source": [
    "# Show some test data and the actual and predicted classes in a 2x3 plot.\n",
    "NUM_SAMPLES = 6\n",
    "indices = np.random.choice(len(x_test_small), NUM_SAMPLES, replace=False)\n",
    "sample_images = x_test_small[indices]\n",
    "sample_labels = y_test_small[indices]\n",
    "predictions = model.predict(sample_images)\n",
    "\n",
    "fig, axes = plt.subplots(2, 3, figsize=(10, 7))\n",
    "axes = axes.flatten()\n",
    "\n",
    "for i in range(NUM_SAMPLES):\n",
    "    axes[i].imshow(sample_images[i], cmap=\"gray\")\n",
    "    axes[i].set_title(\n",
    "        f\"Actual: {np.argmax(sample_labels[i])}, \"\n",
    "        f\"Predicted: {np.argmax(predictions[i])}\"\n",
    "    )\n",
    "    axes[i].axis(\"off\")\n",
    "\n",
    "plt.tight_layout()\n",
    "plt.show()"
   ]
  }
 ],
 "metadata": {
  "kernelspec": {
   "display_name": "damin2025",
   "language": "python",
   "name": "python3"
  },
  "language_info": {
   "codemirror_mode": {
    "name": "ipython",
    "version": 3
   },
   "file_extension": ".py",
   "mimetype": "text/x-python",
   "name": "python",
   "nbconvert_exporter": "python",
   "pygments_lexer": "ipython3",
   "version": "3.12.11"
  }
 },
 "nbformat": 4,
 "nbformat_minor": 5
}
