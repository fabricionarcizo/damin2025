{
 "cells": [
  {
   "cell_type": "markdown",
   "id": "87720b0f",
   "metadata": {},
   "source": [
    "# Convolutional Neural Network Demonstration\n",
    "\n",
    "This notebook demonstrates a simple convolutional neural network model for handwritten digit classification."
   ]
  },
  {
   "cell_type": "markdown",
   "id": "61df5cad",
   "metadata": {},
   "source": [
    "## Import Required Libraries\n",
    "\n",
    "Import the necessary libraries including PyTorch, torchvision, and matplotlib."
   ]
  },
  {
   "cell_type": "code",
   "execution_count": 1,
   "id": "fc74f8a1",
   "metadata": {},
   "outputs": [],
   "source": [
    "# Import the required libraries.\n",
    "import torch\n",
    "import torchvision\n",
    "\n",
    "import matplotlib.pyplot as plt\n",
    "\n",
    "from torch.utils.data import DataLoader\n",
    "\n",
    "from torch import nn\n",
    "from torch import optim\n",
    "from torch.nn.functional import one_hot\n",
    "from torchvision import transforms\n",
    "from torchviz import make_dot\n",
    "from sklearn.metrics import (accuracy_score, precision_score,\n",
    "                             recall_score, f1_score)"
   ]
  },
  {
   "cell_type": "markdown",
   "id": "29edab89",
   "metadata": {},
   "source": [
    "## Define CNN Architecture\n",
    "\n",
    "Create a simple CNN class for the QMNIST dataset."
   ]
  },
  {
   "cell_type": "code",
   "execution_count": 2,
   "id": "8b6ce9ea",
   "metadata": {},
   "outputs": [],
   "source": [
    "class SimpleCNN(nn.Module):\n",
    "    \"\"\"Define the CNN architecture for QMNIST dataset.\"\"\"\n",
    "\n",
    "    def __init__(self):\n",
    "        \"\"\"Initialize the CNN architecture.\"\"\"\n",
    "        super().__init__()\n",
    "        self.conv1 = nn.Conv2d(\n",
    "            in_channels=1, out_channels=32,\n",
    "            kernel_size=3, stride=1, padding=1\n",
    "        )\n",
    "        self.pool = nn.MaxPool2d(\n",
    "            kernel_size=2, stride=2, padding=0)\n",
    "        self.conv2 = nn.Conv2d(\n",
    "            in_channels=32, out_channels=64,\n",
    "            kernel_size=3, stride=1, padding=1\n",
    "        )\n",
    "        self.conv3 = nn.Conv2d(\n",
    "            in_channels=64, out_channels=128,\n",
    "            kernel_size=3, stride=1, padding=1\n",
    "        )\n",
    "        self.fc1 = nn.Linear(128 * 3 * 3, 256)\n",
    "        self.fc2 = nn.Linear(256, 10)  # QMNIST has 10 classes.\n",
    "        self.softmax = nn.Softmax(dim=1)\n",
    "\n",
    "    def forward(self, x: torch.Tensor) -> torch.Tensor:\n",
    "        \"\"\"\n",
    "        Forward pass of the network.\n",
    "        \n",
    "        Args:\n",
    "            x (torch.Tensor): Input tensor.\n",
    "\n",
    "        Returns:\n",
    "            torch.Tensor: Output tensor.\n",
    "        \"\"\"\n",
    "        x = self.pool(torch.relu(self.conv1(x)))\n",
    "        x = self.pool(torch.relu(self.conv2(x)))\n",
    "        x = self.pool(torch.relu(self.conv3(x)))\n",
    "        x = x.view(-1, 128 * 3 * 3)\n",
    "        x = torch.relu(self.fc1(x))\n",
    "        x = self.fc2(x)\n",
    "        x = self.softmax(x)\n",
    "        return x"
   ]
  },
  {
   "cell_type": "markdown",
   "id": "607da1f2",
   "metadata": {},
   "source": [
    "## Set Hyperparameters and Data Preprocessing\n",
    "\n",
    "Define hyperparameters and data transformation pipeline."
   ]
  },
  {
   "cell_type": "code",
   "execution_count": 3,
   "id": "d8dc1618",
   "metadata": {},
   "outputs": [],
   "source": [
    "# Hyperparameters.\n",
    "BATCH_SIZE = 64\n",
    "LEARNING_RATE = 0.001\n",
    "NUM_EPOCHS = 1 # Try increasing this value.\n",
    "\n",
    "# Data preprocessing.\n",
    "transform = transforms.Compose([\n",
    "    transforms.Grayscale(num_output_channels=1),\n",
    "    transforms.Resize((28, 28)),\n",
    "    transforms.ToTensor(),\n",
    "    transforms.Normalize((0.5,), (0.5,))\n",
    "])"
   ]
  },
  {
   "cell_type": "markdown",
   "id": "2c2a4b2c",
   "metadata": {},
   "source": [
    "## Load Dataset and Initialize Model\n",
    "\n",
    "Load the QMNIST dataset and initialize the CNN model with optimizer and loss function."
   ]
  },
  {
   "cell_type": "code",
   "execution_count": 4,
   "id": "aab7118e",
   "metadata": {},
   "outputs": [],
   "source": [
    "# Load QMNIST dataset and create a DataLoader.\n",
    "train_dataset = torchvision.datasets.QMNIST(\n",
    "    root=\"./lecture07/data\", what=\"train\", download=True, transform=transform)\n",
    "train_loader = DataLoader(\n",
    "    dataset=train_dataset, batch_size=BATCH_SIZE, shuffle=True)\n",
    "\n",
    "# Initialize the network, loss function and optimizer.\n",
    "model = SimpleCNN()\n",
    "criterion = nn.BCELoss()\n",
    "optimizer = optim.Adam(model.parameters(), lr=LEARNING_RATE)"
   ]
  },
  {
   "cell_type": "markdown",
   "id": "c54dbd53",
   "metadata": {},
   "source": [
    "## Visualize Model Architecture\n",
    "\n",
    "Generate and save a visual representation of the model architecture."
   ]
  },
  {
   "cell_type": "code",
   "execution_count": 5,
   "id": "18c9526c",
   "metadata": {},
   "outputs": [],
   "source": [
    "# Create a dummy input tensor with the same shape as the input data.\n",
    "dummy_input = torch.randn(1, 1, 28, 28)\n",
    "\n",
    "# Generate the graph.\n",
    "model_graph = make_dot(\n",
    "    model(dummy_input), params=dict(model.named_parameters()))\n",
    "\n",
    "# Save the graph to a file.\n",
    "model_graph.format = \"png\"\n",
    "model_graph.directory = \"./lecture07/models\"\n",
    "model_graph.filename = \"qmnist_model\""
   ]
  },
  {
   "cell_type": "markdown",
   "id": "f5262bf5",
   "metadata": {},
   "source": [
    "## Train the Model\n",
    "\n",
    "Execute the training loop for the specified number of epochs."
   ]
  },
  {
   "cell_type": "code",
   "execution_count": 6,
   "id": "a69ba1e3",
   "metadata": {},
   "outputs": [
    {
     "name": "stdout",
     "output_type": "stream",
     "text": [
      "Epoch [1/1], Loss: 0.0045\n",
      "Training complete.\n"
     ]
    }
   ],
   "source": [
    "# Training loop.\n",
    "for epoch in range(NUM_EPOCHS):\n",
    "    for images, labels in train_loader:\n",
    "\n",
    "        # One-hot encode the labels.\n",
    "        labels = one_hot(labels.long(), num_classes=10).float()\n",
    "\n",
    "        # Forward pass.\n",
    "        outputs = model(images)\n",
    "\n",
    "        # Compute loss.\n",
    "        loss = criterion(outputs, labels)\n",
    "\n",
    "        # Backward pass and optimization.\n",
    "        optimizer.zero_grad()\n",
    "        loss.backward()\n",
    "        optimizer.step()\n",
    "\n",
    "    print(f\"Epoch [{epoch+1}/{NUM_EPOCHS}], Loss: {loss.item():.4f}\")\n",
    "\n",
    "print(\"Training complete.\")"
   ]
  },
  {
   "cell_type": "markdown",
   "id": "117344b8",
   "metadata": {},
   "source": [
    "## Export Model to ONNX\n",
    "\n",
    "Save the trained model in ONNX format for deployment."
   ]
  },
  {
   "cell_type": "code",
   "execution_count": 7,
   "id": "ee39af3d",
   "metadata": {},
   "outputs": [
    {
     "name": "stdout",
     "output_type": "stream",
     "text": [
      "Model saved to ./lecture07/models/qmnist_model.onnx.\n"
     ]
    },
    {
     "name": "stderr",
     "output_type": "stream",
     "text": [
      "/var/folders/q3/2tkw4wl936l357n57y8sx0x80000gn/T/ipykernel_75254/3431241506.py:4: DeprecationWarning: You are using the legacy TorchScript-based ONNX export. Starting in PyTorch 2.9, the new torch.export-based ONNX exporter will be the default. To switch now, set dynamo=True in torch.onnx.export. This new exporter supports features like exporting LLMs with DynamicCache. We encourage you to try it and share feedback to help improve the experience. Learn more about the new export logic: https://pytorch.org/docs/stable/onnx_dynamo.html. For exporting control flow: https://pytorch.org/tutorials/beginner/onnx/export_control_flow_model_to_onnx_tutorial.html.\n",
      "  torch.onnx.export(\n"
     ]
    }
   ],
   "source": [
    "# Save the trained model in an ONNX file.\n",
    "dummy_input = torch.randn(1, 1, 28, 28)\n",
    "ONNX_FILE_PATH = \"./lecture07/models/qmnist_model.onnx\"\n",
    "torch.onnx.export(\n",
    "    model, dummy_input, ONNX_FILE_PATH,\n",
    "    input_names=[\"input\"], output_names=[\"output\"],\n",
    "    dynamic_axes={\n",
    "        \"input\": { 0: \"batch_size\" },\n",
    "        \"output\": { 0: \"batch_size\" }\n",
    "    }\n",
    ")\n",
    "\n",
    "print(f\"Model saved to {ONNX_FILE_PATH}.\")"
   ]
  },
  {
   "cell_type": "markdown",
   "id": "6c8f69b0",
   "metadata": {},
   "source": [
    "## Evaluate Model Performance\n",
    "\n",
    "Load test dataset and evaluate the model performance with various metrics."
   ]
  },
  {
   "cell_type": "code",
   "execution_count": 8,
   "id": "0cdd8d32",
   "metadata": {},
   "outputs": [
    {
     "name": "stderr",
     "output_type": "stream",
     "text": [
      "100%|██████████| 9.74M/9.74M [00:03<00:00, 3.18MB/s]\n",
      "100%|██████████| 527k/527k [00:00<00:00, 643kB/s] \n"
     ]
    },
    {
     "name": "stdout",
     "output_type": "stream",
     "text": [
      "Accuracy: 0.9791\n",
      "Precision: 0.9797\n",
      "Recall: 0.9791\n",
      "F1 Score: 0.9792\n"
     ]
    }
   ],
   "source": [
    "# Load the test dataset.\n",
    "test_dataset = torchvision.datasets.QMNIST(\n",
    "    root=\"./lecture07/data\", what=\"test\", download=True, transform=transform)\n",
    "test_loader = DataLoader(\n",
    "    dataset=test_dataset, batch_size=BATCH_SIZE, shuffle=True)\n",
    "\n",
    "# Evaluate the model on the test dataset.\n",
    "all_labels = []\n",
    "all_preds = []\n",
    "\n",
    "with torch.no_grad():\n",
    "    for images, labels in test_loader:\n",
    "        outputs = model(images)\n",
    "        _, predicted = torch.max(outputs, 1)\n",
    "        all_labels.extend(labels.numpy())\n",
    "        all_preds.extend(predicted.numpy())\n",
    "\n",
    "# Compute metrics.\n",
    "accuracy = accuracy_score(all_labels, all_preds)\n",
    "precision = precision_score(all_labels, all_preds, average=\"weighted\")\n",
    "recall = recall_score(all_labels, all_preds, average=\"weighted\")\n",
    "f1 = f1_score(all_labels, all_preds, average=\"weighted\")\n",
    "\n",
    "print(f\"Accuracy: {accuracy:.4f}\")\n",
    "print(f\"Precision: {precision:.4f}\")\n",
    "print(f\"Recall: {recall:.4f}\")\n",
    "print(f\"F1 Score: {f1:.4f}\")"
   ]
  },
  {
   "cell_type": "markdown",
   "id": "58d51c2f",
   "metadata": {},
   "source": [
    "## Visualize Predictions\n",
    "\n",
    "Display sample images with actual and predicted labels."
   ]
  },
  {
   "cell_type": "code",
   "execution_count": 9,
   "id": "0568793c",
   "metadata": {},
   "outputs": [
    {
     "data": {
      "image/png": "[encoded data removed]",
      "text/plain": [
       "<Figure size 1000x700 with 6 Axes>"
      ]
     },
     "metadata": {},
     "output_type": "display_data"
    }
   ],
   "source": [
    "# Get predictions.\n",
    "data_iter = iter(test_loader)\n",
    "images, labels = next(data_iter)\n",
    "labels = labels.float().unsqueeze(1)\n",
    "\n",
    "outputs = model(images)\n",
    "_, predicted = torch.max(outputs, 1)\n",
    "\n",
    "# Plot the images with actual and predicted labels.\n",
    "fig, axes = plt.subplots(2, 3, figsize=(10, 7))\n",
    "axes = axes.flatten()\n",
    "for i in range(6):\n",
    "    img = images[i].squeeze().numpy()\n",
    "    ax = axes[i]\n",
    "    ax.imshow(img, cmap=\"gray\")\n",
    "    ax.set_title(\n",
    "        f\"Actual: {int(labels[i].item())}, \"\n",
    "        f\"Predicted: {int(predicted[i].item())}\"\n",
    "    )\n",
    "    ax.axis(\"off\")\n",
    "\n",
    "plt.tight_layout()\n",
    "plt.show()"
   ]
  }
 ],
 "metadata": {
  "kernelspec": {
   "display_name": "damin2025",
   "language": "python",
   "name": "python3"
  },
  "language_info": {
   "codemirror_mode": {
    "name": "ipython",
    "version": 3
   },
   "file_extension": ".py",
   "mimetype": "text/x-python",
   "name": "python",
   "nbconvert_exporter": "python",
   "pygments_lexer": "ipython3",
   "version": "3.12.11"
  }
 },
 "nbformat": 4,
 "nbformat_minor": 5
}
