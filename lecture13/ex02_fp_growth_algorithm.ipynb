{
 "cells": [
  {
   "cell_type": "markdown",
   "id": "ea6c0260",
   "metadata": {},
   "source": [
    "# FP-Growth Algorithm for Association Rules\n",
    "\n",
    "This notebook demonstrates how to use the FP-Growth algorithm to find association rules."
   ]
  },
  {
   "cell_type": "markdown",
   "id": "5e28a657",
   "metadata": {},
   "source": [
    "## Import necessary libraries"
   ]
  },
  {
   "cell_type": "code",
   "execution_count": 1,
   "id": "e6ad2198",
   "metadata": {},
   "outputs": [],
   "source": [
    "import matplotlib.pyplot as plt\n",
    "import numpy as np\n",
    "import pandas as pd\n",
    "import plotly.express as px\n",
    "\n",
    "from mlxtend.frequent_patterns import fpgrowth, association_rules"
   ]
  },
  {
   "cell_type": "markdown",
   "id": "8fcd93a0",
   "metadata": {},
   "source": [
    "## Define helper functions"
   ]
  },
  {
   "cell_type": "code",
   "execution_count": 2,
   "id": "536bd24b",
   "metadata": {},
   "outputs": [],
   "source": [
    "def render_mpl_table(\n",
    "        data: pd.DataFrame, col_width: float = 4.0, row_height: float = 0.625,\n",
    "        font_size: int = 10, header_color: str = \"#179E86\",\n",
    "        row_colors: list = [\"#f1f1f2\", \"#ffffff\"], edge_color: str = \"black\",\n",
    "        bbox: list = [0, 0, 1, 1], header_font_color: str = \"white\",\n",
    "        ax: plt.Axes = None, **kwargs) -> plt.Axes:\n",
    "    \"\"\"Function to display the DataFrame as a table with colored cells.\n",
    "\n",
    "    Args:\n",
    "        data (pd.DataFrame): The DataFrame to be displayed as a table.\n",
    "        col_width (float, optional): The width of the columns. Defaults to 4.0.\n",
    "        row_height (float, optional): The height of the rows. Defaults to 0.625.\n",
    "        font_size (int, optional): The font size. Defaults to 14.\n",
    "        header_color (str, optional): The color of the header. Defaults to\n",
    "            \"#179E86\".\n",
    "        row_colors (list, optional): The colors of the rows. Defaults to\n",
    "            [\"#f1f1f2\", \"#ffffff\"].\n",
    "        edge_color (str, optional): The color of the edges. Defaults to \"black\".\n",
    "        bbox (list, optional): The bounding box. Defaults to [0, 0, 1, 1].\n",
    "        header_font_color (str, optional): The color of the header font.\n",
    "            Defaults to \"white\".\n",
    "        ax (plt.Axes, optional): The axes to be used. Defaults to None.\n",
    "\n",
    "    Returns:\n",
    "        plt.Axes: The axes with the table.\n",
    "    \"\"\"\n",
    "\n",
    "    # Create the figure and axes if not provided.\n",
    "    if ax is None:\n",
    "        size = (np.array(data.shape[::-1]) + np.array([0, 1])) * \\\n",
    "            np.array([col_width, row_height])\n",
    "        _, ax = plt.subplots(figsize=size)\n",
    "        ax.axis(\"off\")\n",
    "\n",
    "    # Create the table.\n",
    "    mpl_table = ax.table(\n",
    "        cellText=[\n",
    "            [\n",
    "                str(cell)\n",
    "                    .replace(\"frozenset({\", \"\")\n",
    "                    .replace(\"})\", \"\") for cell in row\n",
    "            ] for row in data.values\n",
    "        ],\n",
    "        bbox=bbox,\n",
    "        colLabels=data.columns,\n",
    "        colWidths=[0.30, 0.70],\n",
    "        **kwargs\n",
    "    )\n",
    "\n",
    "    # Set the font size.\n",
    "    mpl_table.auto_set_font_size(False)\n",
    "    mpl_table.set_fontsize(font_size)\n",
    "\n",
    "    # Styling the table.\n",
    "    for k, cell in mpl_table._cells.items():\n",
    "        cell.set_edgecolor(edge_color)\n",
    "\n",
    "        # Header row.\n",
    "        if k[0] == 0:\n",
    "            cell.set_text_props(weight=\"bold\", color=header_font_color)\n",
    "            cell.set_facecolor(header_color)\n",
    "\n",
    "        # Alternate row coloring\n",
    "        else:\n",
    "            cell.set_facecolor(row_colors[k[0] % len(row_colors)])\n",
    "\n",
    "    return ax\n",
    "\n",
    "\n",
    "def encode_units(x: int) -> int:\n",
    "    \"\"\"\n",
    "    Function to encode units.\n",
    "\n",
    "    Args:\n",
    "        x (int): The quantity of the product.\n",
    "\n",
    "    Returns:\n",
    "        int: 1 if the quantity is greater than 0, 0 otherwise.\n",
    "    \"\"\"\n",
    "    return 1 if x > 0 else 0"
   ]
  },
  {
   "cell_type": "markdown",
   "id": "cc980616",
   "metadata": {},
   "source": [
    "## Load and prepare data"
   ]
  },
  {
   "cell_type": "code",
   "execution_count": 3,
   "id": "e6cbf95e",
   "metadata": {},
   "outputs": [],
   "source": [
    "# Read the Excel file.\n",
    "df = pd.read_excel(\"./data/online_retail.xlsx\")\n",
    "\n",
    "# Perform data cleaning to remove the rules that do not have invoice number.\n",
    "df[\"Description\"] = df[\"Description\"].str.strip()\n",
    "df[\"InvoiceNo\"] = df[\"InvoiceNo\"].astype(\"str\")\n",
    "df = df[~df[\"InvoiceNo\"].str.contains(\"C\")]"
   ]
  },
  {
   "cell_type": "markdown",
   "id": "e8fff710",
   "metadata": {},
   "source": [
    "## Create shopping cart"
   ]
  },
  {
   "cell_type": "code",
   "execution_count": 4,
   "id": "2f98b6a2",
   "metadata": {},
   "outputs": [],
   "source": [
    "# Create a shopping cart.\n",
    "shopping_cart = df[df[\"Country\"] == \"Portugal\"].groupby(\n",
    "    [\"InvoiceNo\", \"Description\"]\n",
    ")[\"Quantity\"].sum().unstack().reset_index().fillna(0).set_index(\"InvoiceNo\")\n",
    "\n",
    "# Apply the encoding function to the shopping cart.\n",
    "shopping_cart_sets = shopping_cart.map(encode_units)\n",
    "\n",
    "# Drop the \"POSTAGE\" column if it exists.\n",
    "if \"POSTAGE\" in shopping_cart_sets.columns:\n",
    "    shopping_cart_sets.drop(\"POSTAGE\", inplace=True, axis=1)"
   ]
  },
  {
   "cell_type": "markdown",
   "id": "c95a5068",
   "metadata": {},
   "source": [
    "## Apply FP-Growth algorithm"
   ]
  },
  {
   "cell_type": "code",
   "execution_count": 5,
   "id": "b3e6260d",
   "metadata": {},
   "outputs": [
    {
     "name": "stderr",
     "output_type": "stream",
     "text": [
      "/Users/fabricio/.miniforge3/envs/damin2025/lib/python3.12/site-packages/mlxtend/frequent_patterns/fpcommon.py:161: DeprecationWarning: DataFrames with non-bool types result in worse computationalperformance and their support might be discontinued in the future.Please use a DataFrame with bool type\n",
      "  warnings.warn(\n"
     ]
    }
   ],
   "source": [
    "# Apply the FP-Growth algorithm with a minimum support of 0.07.\n",
    "frequent_itemsets = fpgrowth(\n",
    "    shopping_cart_sets, min_support=0.07, use_colnames=True)\n",
    "frequent_itemsets = frequent_itemsets.sort_values(by=\"support\", ascending=False)"
   ]
  },
  {
   "cell_type": "markdown",
   "id": "53f37abf",
   "metadata": {},
   "source": [
    "## Visualize frequent itemsets"
   ]
  },
  {
   "cell_type": "code",
   "execution_count": 6,
   "id": "5349c006",
   "metadata": {},
   "outputs": [
    {
     "data": {
      "image/png": "[encoded data removed]",
      "text/plain": [
       "<Figure size 800x687.5 with 1 Axes>"
      ]
     },
     "metadata": {},
     "output_type": "display_data"
    }
   ],
   "source": [
    "# Render the table.\n",
    "render_mpl_table(frequent_itemsets.head(10))\n",
    "plt.show()"
   ]
  },
  {
   "cell_type": "markdown",
   "id": "9d62e7b3",
   "metadata": {},
   "source": [
    "## Generate association rules"
   ]
  },
  {
   "cell_type": "code",
   "execution_count": 7,
   "id": "ca2136ef",
   "metadata": {},
   "outputs": [
    {
     "name": "stdout",
     "output_type": "stream",
     "text": [
      "                                           antecedents  \\\n",
      "7    (JUMBO BAG SCANDINAVIAN BLUE PAISLEY, JUMBO SH...   \n",
      "10                    (JUMBO BAG PINK VINTAGE PAISLEY)   \n",
      "23   (LUNCH BAG RED RETROSPOT, JUMBO SHOPPER VINTAG...   \n",
      "26                    (JUMBO BAG PINK VINTAGE PAISLEY)   \n",
      "42   (LUNCH BAG RED RETROSPOT, JUMBO BAG SCANDINAVI...   \n",
      "55   (LUNCH BAG RED RETROSPOT, JUMBO BAG SCANDINAVI...   \n",
      "58   (LUNCH BAG RED RETROSPOT, JUMBO BAG SCANDINAVI...   \n",
      "59   (LUNCH BAG RED RETROSPOT, JUMBO BAG PINK VINTA...   \n",
      "60   (LUNCH BAG RED RETROSPOT, JUMBO SHOPPER VINTAG...   \n",
      "61   (JUMBO BAG PINK VINTAGE PAISLEY, JUMBO BAG SCA...   \n",
      "62   (JUMBO BAG SCANDINAVIAN BLUE PAISLEY, JUMBO SH...   \n",
      "71   (JUMBO BAG RED RETROSPOT, JUMBO SHOPPER VINTAG...   \n",
      "88                   (SCANDINAVIAN PAISLEY PICNIC BAG)   \n",
      "89                   (PINK VINTAGE PAISLEY PICNIC BAG)   \n",
      "92   (LUNCH BAG CARS BLUE, JUMBO BAG PINK VINTAGE P...   \n",
      "111  (LUNCH BAG PINK POLKADOT, JUMBO BAG SCANDINAVI...   \n",
      "112  (LUNCH BAG PINK POLKADOT, JUMBO BAG PINK VINTA...   \n",
      "127  (LUNCH BAG PINK POLKADOT, JUMBO SHOPPER VINTAG...   \n",
      "133  (LUNCH BAG PINK POLKADOT, JUMBO SHOPPER VINTAG...   \n",
      "139  (LUNCH BAG PINK POLKADOT, JUMBO BAG SCANDINAVI...   \n",
      "140  (LUNCH BAG PINK POLKADOT, JUMBO BAG PINK VINTA...   \n",
      "142  (LUNCH BAG PINK POLKADOT, JUMBO BAG SCANDINAVI...   \n",
      "143  (LUNCH BAG PINK POLKADOT, JUMBO BAG PINK VINTA...   \n",
      "144  (LUNCH BAG PINK POLKADOT, JUMBO SHOPPER VINTAG...   \n",
      "152  (LUNCH BAG CARS BLUE, JUMBO BAG PINK VINTAGE P...   \n",
      "153  (LUNCH BAG CARS BLUE, JUMBO BAG RED RETROSPOT,...   \n",
      "158  (JUMBO BAG RED RETROSPOT, JUMBO SHOPPER VINTAG...   \n",
      "159  (LUNCH BAG CARS BLUE, JUMBO BAG PINK VINTAGE P...   \n",
      "161  (JUMBO BAG RED RETROSPOT, JUMBO BAG PINK VINTA...   \n",
      "181  (JUMBO SHOPPER VINTAGE RED PAISLEY, LUNCH BAG ...   \n",
      "\n",
      "                                           consequents   support  confidence  \\\n",
      "7                     (JUMBO BAG PINK VINTAGE PAISLEY)  0.137931    1.000000   \n",
      "10   (JUMBO BAG SCANDINAVIAN BLUE PAISLEY, JUMBO SH...  0.137931    0.888889   \n",
      "23                    (JUMBO BAG PINK VINTAGE PAISLEY)  0.137931    1.000000   \n",
      "26   (LUNCH BAG RED RETROSPOT, JUMBO SHOPPER VINTAG...  0.137931    0.888889   \n",
      "42                    (JUMBO BAG PINK VINTAGE PAISLEY)  0.120690    1.000000   \n",
      "55                    (JUMBO BAG PINK VINTAGE PAISLEY)  0.120690    1.000000   \n",
      "58   (JUMBO BAG PINK VINTAGE PAISLEY, JUMBO SHOPPER...  0.120690    1.000000   \n",
      "59   (JUMBO BAG SCANDINAVIAN BLUE PAISLEY, JUMBO SH...  0.120690    0.875000   \n",
      "60   (JUMBO BAG PINK VINTAGE PAISLEY, JUMBO BAG SCA...  0.120690    0.875000   \n",
      "61   (LUNCH BAG RED RETROSPOT, JUMBO SHOPPER VINTAG...  0.120690    0.875000   \n",
      "62   (LUNCH BAG RED RETROSPOT, JUMBO BAG PINK VINTA...  0.120690    0.875000   \n",
      "71                    (JUMBO BAG PINK VINTAGE PAISLEY)  0.120690    1.000000   \n",
      "88                   (PINK VINTAGE PAISLEY PICNIC BAG)  0.120690    1.000000   \n",
      "89                   (SCANDINAVIAN PAISLEY PICNIC BAG)  0.120690    0.875000   \n",
      "92                           (JUMBO BAG RED RETROSPOT)  0.103448    0.857143   \n",
      "111                   (JUMBO BAG PINK VINTAGE PAISLEY)  0.103448    1.000000   \n",
      "112              (JUMBO BAG SCANDINAVIAN BLUE PAISLEY)  0.103448    1.000000   \n",
      "127                   (JUMBO BAG PINK VINTAGE PAISLEY)  0.103448    1.000000   \n",
      "133              (JUMBO BAG SCANDINAVIAN BLUE PAISLEY)  0.103448    1.000000   \n",
      "139                   (JUMBO BAG PINK VINTAGE PAISLEY)  0.103448    1.000000   \n",
      "140              (JUMBO BAG SCANDINAVIAN BLUE PAISLEY)  0.103448    1.000000   \n",
      "142  (JUMBO BAG PINK VINTAGE PAISLEY, JUMBO SHOPPER...  0.103448    1.000000   \n",
      "143  (JUMBO BAG SCANDINAVIAN BLUE PAISLEY, JUMBO SH...  0.103448    1.000000   \n",
      "144  (JUMBO BAG PINK VINTAGE PAISLEY, JUMBO BAG SCA...  0.103448    1.000000   \n",
      "152                          (JUMBO BAG RED RETROSPOT)  0.103448    0.857143   \n",
      "153                   (JUMBO BAG PINK VINTAGE PAISLEY)  0.103448    1.000000   \n",
      "158  (LUNCH BAG CARS BLUE, JUMBO BAG PINK VINTAGE P...  0.103448    0.857143   \n",
      "159  (JUMBO BAG RED RETROSPOT, JUMBO SHOPPER VINTAG...  0.103448    0.857143   \n",
      "161  (LUNCH BAG CARS BLUE, JUMBO SHOPPER VINTAGE RE...  0.103448    0.857143   \n",
      "181                   (JUMBO BAG PINK VINTAGE PAISLEY)  0.103448    1.000000   \n",
      "\n",
      "         lift  \n",
      "7    6.444444  \n",
      "10   6.444444  \n",
      "23   6.444444  \n",
      "26   6.444444  \n",
      "42   6.444444  \n",
      "55   6.444444  \n",
      "58   6.444444  \n",
      "59   6.343750  \n",
      "60   6.343750  \n",
      "61   6.343750  \n",
      "62   6.343750  \n",
      "71   6.444444  \n",
      "88   7.250000  \n",
      "89   7.250000  \n",
      "92   6.214286  \n",
      "111  6.444444  \n",
      "112  6.444444  \n",
      "127  6.444444  \n",
      "133  6.444444  \n",
      "139  6.444444  \n",
      "140  6.444444  \n",
      "142  6.444444  \n",
      "143  7.250000  \n",
      "144  7.250000  \n",
      "152  6.214286  \n",
      "153  6.444444  \n",
      "158  7.102041  \n",
      "159  7.102041  \n",
      "161  6.214286  \n",
      "181  6.444444  \n"
     ]
    }
   ],
   "source": [
    "# Generate the association rules.\n",
    "rules = association_rules(\n",
    "    frequent_itemsets, num_itemsets=len(frequent_itemsets),\n",
    "    metric=\"lift\", min_threshold=1\n",
    ")\n",
    "\n",
    "# Select the rules with a lift greater than 6 and a confidence greater than 0.8.\n",
    "selected_rules = rules[(rules[\"lift\"] >= 6) & (rules[\"confidence\"] >= 0.8)]\n",
    "print(\n",
    "    selected_rules.head(30)[\n",
    "        [\"antecedents\", \"consequents\", \"support\", \"confidence\", \"lift\"]\n",
    "    ]\n",
    ")"
   ]
  },
  {
   "cell_type": "markdown",
   "id": "81399385",
   "metadata": {},
   "source": [
    "## Visualize top 50 items with TreeMap"
   ]
  },
  {
   "cell_type": "code",
   "execution_count": 8,
   "id": "afeec5b7",
   "metadata": {},
   "outputs": [
    {
     "data": {
      "application/vnd.plotly.v1+json": {
       "config": {
        "plotlyServerURL": "https://plot.ly"
       },
       "data": [
        {
         "branchvalues": "total",
         "customdata": [
          [
           "WHITE HANGING HEART T-LIGHT HOLDER",
           6
          ],
          [
           "WHITE METAL LANTERN",
           6
          ],
          [
           "CREAM CUPID HEARTS COAT HANGER",
           8
          ],
          [
           "KNITTED UNION FLAG HOT WATER BOTTLE",
           6
          ],
          [
           "RED WOOLLY HOTTIE WHITE HEART.",
           6
          ],
          [
           "SET 7 BABUSHKA NESTING BOXES",
           2
          ],
          [
           "GLASS STAR FROSTED T-LIGHT HOLDER",
           6
          ],
          [
           "HAND WARMER UNION JACK",
           6
          ],
          [
           "HAND WARMER RED POLKA DOT",
           6
          ],
          [
           "ASSORTED COLOUR BIRD ORNAMENT",
           32
          ],
          [
           "POPPY'S PLAYHOUSE BEDROOM",
           6
          ],
          [
           "POPPY'S PLAYHOUSE KITCHEN",
           6
          ],
          [
           "FELTCRAFT PRINCESS CHARLOTTE DOLL",
           8
          ],
          [
           "IVORY KNITTED MUG COSY",
           6
          ],
          [
           "BOX OF 6 ASSORTED COLOUR TEASPOONS",
           6
          ],
          [
           "BOX OF VINTAGE JIGSAW BLOCKS",
           3
          ],
          [
           "BOX OF VINTAGE ALPHABET BLOCKS",
           2
          ],
          [
           "HOME BUILDING BLOCK WORD",
           3
          ],
          [
           "LOVE BUILDING BLOCK WORD",
           3
          ],
          [
           "RECIPE BOX WITH METAL HEART",
           4
          ],
          [
           "DOORMAT NEW ENGLAND",
           4
          ],
          [
           "JAM MAKING SET WITH JARS",
           6
          ],
          [
           "RED COAT RACK PARIS FASHION",
           3
          ],
          [
           "YELLOW COAT RACK PARIS FASHION",
           3
          ],
          [
           "BLUE COAT RACK PARIS FASHION",
           3
          ],
          [
           "BATH BUILDING BLOCK WORD",
           3
          ],
          [
           "ALARM CLOCK BAKELIKE PINK",
           24
          ],
          [
           "ALARM CLOCK BAKELIKE RED",
           24
          ],
          [
           "ALARM CLOCK BAKELIKE GREEN",
           12
          ],
          [
           "PANDA AND BUNNIES STICKER SHEET",
           12
          ],
          [
           "STARS GIFT TAPE",
           24
          ],
          [
           "INFLATABLE POLITICAL GLOBE",
           48
          ],
          [
           "VINTAGE HEADS AND TAILS CARD GAME",
           24
          ],
          [
           "SET/2 RED RETROSPOT TEA TOWELS",
           18
          ],
          [
           "ROUND SNACK BOXES SET OF4 WOODLAND",
           24
          ],
          [
           "SPACEBOY LUNCH BOX",
           24
          ],
          [
           "LUNCH BOX I LOVE LONDON",
           24
          ],
          [
           "CIRCUS PARADE LUNCH BOX",
           24
          ],
          [
           "CHARLOTTE BAG DOLLY GIRL DESIGN",
           20
          ],
          [
           "RED TOADSTOOL LED NIGHT LIGHT",
           24
          ],
          [
           "SET 2 TEA TOWELS I LOVE LONDON",
           24
          ],
          [
           "VINTAGE SEASIDE JIGSAW PUZZLES",
           12
          ],
          [
           "MINI JIGSAW CIRCUS PARADE",
           24
          ],
          [
           "MINI JIGSAW SPACEBOY",
           24
          ],
          [
           "MINI PAINT SET VINTAGE",
           36
          ],
          [
           "POSTAGE",
           3
          ],
          [
           "PAPER CHAIN KIT 50'S CHRISTMAS",
           80
          ],
          [
           "(?)",
           28.388571428571428
          ]
         ],
         "domain": {
          "x": [
           0,
           1
          ],
          "y": [
           0,
           1
          ]
         },
         "hovertemplate": "labels=%{label}<br>Quantity_sum=%{value}<br>parent=%{parent}<br>id=%{id}<br>Description=%{customdata[0]}<br>Quantity=%{color}<extra></extra>",
         "ids": [
          "Top 50 items/WHITE HANGING HEART T-LIGHT HOLDER",
          "Top 50 items/WHITE METAL LANTERN",
          "Top 50 items/CREAM CUPID HEARTS COAT HANGER",
          "Top 50 items/KNITTED UNION FLAG HOT WATER BOTTLE",
          "Top 50 items/RED WOOLLY HOTTIE WHITE HEART.",
          "Top 50 items/SET 7 BABUSHKA NESTING BOXES",
          "Top 50 items/GLASS STAR FROSTED T-LIGHT HOLDER",
          "Top 50 items/HAND WARMER UNION JACK",
          "Top 50 items/HAND WARMER RED POLKA DOT",
          "Top 50 items/ASSORTED COLOUR BIRD ORNAMENT",
          "Top 50 items/POPPY'S PLAYHOUSE BEDROOM",
          "Top 50 items/POPPY'S PLAYHOUSE KITCHEN",
          "Top 50 items/FELTCRAFT PRINCESS CHARLOTTE DOLL",
          "Top 50 items/IVORY KNITTED MUG COSY",
          "Top 50 items/BOX OF 6 ASSORTED COLOUR TEASPOONS",
          "Top 50 items/BOX OF VINTAGE JIGSAW BLOCKS",
          "Top 50 items/BOX OF VINTAGE ALPHABET BLOCKS",
          "Top 50 items/HOME BUILDING BLOCK WORD",
          "Top 50 items/LOVE BUILDING BLOCK WORD",
          "Top 50 items/RECIPE BOX WITH METAL HEART",
          "Top 50 items/DOORMAT NEW ENGLAND",
          "Top 50 items/JAM MAKING SET WITH JARS",
          "Top 50 items/RED COAT RACK PARIS FASHION",
          "Top 50 items/YELLOW COAT RACK PARIS FASHION",
          "Top 50 items/BLUE COAT RACK PARIS FASHION",
          "Top 50 items/BATH BUILDING BLOCK WORD",
          "Top 50 items/ALARM CLOCK BAKELIKE PINK",
          "Top 50 items/ALARM CLOCK BAKELIKE RED",
          "Top 50 items/ALARM CLOCK BAKELIKE GREEN",
          "Top 50 items/PANDA AND BUNNIES STICKER SHEET",
          "Top 50 items/STARS GIFT TAPE",
          "Top 50 items/INFLATABLE POLITICAL GLOBE",
          "Top 50 items/VINTAGE HEADS AND TAILS CARD GAME",
          "Top 50 items/SET/2 RED RETROSPOT TEA TOWELS",
          "Top 50 items/ROUND SNACK BOXES SET OF4 WOODLAND",
          "Top 50 items/SPACEBOY LUNCH BOX",
          "Top 50 items/LUNCH BOX I LOVE LONDON",
          "Top 50 items/CIRCUS PARADE LUNCH BOX",
          "Top 50 items/CHARLOTTE BAG DOLLY GIRL DESIGN",
          "Top 50 items/RED TOADSTOOL LED NIGHT LIGHT",
          "Top 50 items/SET 2 TEA TOWELS I LOVE LONDON",
          "Top 50 items/VINTAGE SEASIDE JIGSAW PUZZLES",
          "Top 50 items/MINI JIGSAW CIRCUS PARADE",
          "Top 50 items/MINI JIGSAW SPACEBOY",
          "Top 50 items/MINI PAINT SET VINTAGE",
          "Top 50 items/POSTAGE",
          "Top 50 items/PAPER CHAIN KIT 50'S CHRISTMAS",
          "Top 50 items"
         ],
         "labels": [
          "WHITE HANGING HEART T-LIGHT HOLDER",
          "WHITE METAL LANTERN",
          "CREAM CUPID HEARTS COAT HANGER",
          "KNITTED UNION FLAG HOT WATER BOTTLE",
          "RED WOOLLY HOTTIE WHITE HEART.",
          "SET 7 BABUSHKA NESTING BOXES",
          "GLASS STAR FROSTED T-LIGHT HOLDER",
          "HAND WARMER UNION JACK",
          "HAND WARMER RED POLKA DOT",
          "ASSORTED COLOUR BIRD ORNAMENT",
          "POPPY'S PLAYHOUSE BEDROOM",
          "POPPY'S PLAYHOUSE KITCHEN",
          "FELTCRAFT PRINCESS CHARLOTTE DOLL",
          "IVORY KNITTED MUG COSY",
          "BOX OF 6 ASSORTED COLOUR TEASPOONS",
          "BOX OF VINTAGE JIGSAW BLOCKS",
          "BOX OF VINTAGE ALPHABET BLOCKS",
          "HOME BUILDING BLOCK WORD",
          "LOVE BUILDING BLOCK WORD",
          "RECIPE BOX WITH METAL HEART",
          "DOORMAT NEW ENGLAND",
          "JAM MAKING SET WITH JARS",
          "RED COAT RACK PARIS FASHION",
          "YELLOW COAT RACK PARIS FASHION",
          "BLUE COAT RACK PARIS FASHION",
          "BATH BUILDING BLOCK WORD",
          "ALARM CLOCK BAKELIKE PINK",
          "ALARM CLOCK BAKELIKE RED",
          "ALARM CLOCK BAKELIKE GREEN",
          "PANDA AND BUNNIES STICKER SHEET",
          "STARS GIFT TAPE",
          "INFLATABLE POLITICAL GLOBE",
          "VINTAGE HEADS AND TAILS CARD GAME",
          "SET/2 RED RETROSPOT TEA TOWELS",
          "ROUND SNACK BOXES SET OF4 WOODLAND",
          "SPACEBOY LUNCH BOX",
          "LUNCH BOX I LOVE LONDON",
          "CIRCUS PARADE LUNCH BOX",
          "CHARLOTTE BAG DOLLY GIRL DESIGN",
          "RED TOADSTOOL LED NIGHT LIGHT",
          "SET 2 TEA TOWELS I LOVE LONDON",
          "VINTAGE SEASIDE JIGSAW PUZZLES",
          "MINI JIGSAW CIRCUS PARADE",
          "MINI JIGSAW SPACEBOY",
          "MINI PAINT SET VINTAGE",
          "POSTAGE",
          "PAPER CHAIN KIT 50'S CHRISTMAS",
          "Top 50 items"
         ],
         "marker": {
          "coloraxis": "coloraxis",
          "colors": {
           "bdata": "AAAAAAAAGEAAAAAAAAAYQAAAAAAAACBAAAAAAAAAGEAAAAAAAAAYQAAAAAAAAABAAAAAAAAAGEAAAAAAAAAYQAAAAAAAABhAAAAAAAAAQEAAAAAAAAAYQAAAAAAAABhAAAAAAAAAIEAAAAAAAAAYQAAAAAAAABhAAAAAAAAACEAAAAAAAAAAQAAAAAAAAAhAAAAAAAAACEAAAAAAAAAQQAAAAAAAABBAAAAAAAAAGEAAAAAAAAAIQAAAAAAAAAhAAAAAAAAACEAAAAAAAAAIQAAAAAAAADhAAAAAAAAAOEAAAAAAAAAoQAAAAAAAAChAAAAAAAAAOEAAAAAAAABIQAAAAAAAADhAAAAAAAAAMkAAAAAAAAA4QAAAAAAAADhAAAAAAAAAOEAAAAAAAAA4QAAAAAAAADRAAAAAAAAAOEAAAAAAAAA4QAAAAAAAAChAAAAAAAAAOEAAAAAAAAA4QAAAAAAAAEJAAAAAAAAACEAAAAAAAABUQNHfyWp5YzxA",
           "dtype": "f8"
          }
         },
         "name": "",
         "parents": [
          "Top 50 items",
          "Top 50 items",
          "Top 50 items",
          "Top 50 items",
          "Top 50 items",
          "Top 50 items",
          "Top 50 items",
          "Top 50 items",
          "Top 50 items",
          "Top 50 items",
          "Top 50 items",
          "Top 50 items",
          "Top 50 items",
          "Top 50 items",
          "Top 50 items",
          "Top 50 items",
          "Top 50 items",
          "Top 50 items",
          "Top 50 items",
          "Top 50 items",
          "Top 50 items",
          "Top 50 items",
          "Top 50 items",
          "Top 50 items",
          "Top 50 items",
          "Top 50 items",
          "Top 50 items",
          "Top 50 items",
          "Top 50 items",
          "Top 50 items",
          "Top 50 items",
          "Top 50 items",
          "Top 50 items",
          "Top 50 items",
          "Top 50 items",
          "Top 50 items",
          "Top 50 items",
          "Top 50 items",
          "Top 50 items",
          "Top 50 items",
          "Top 50 items",
          "Top 50 items",
          "Top 50 items",
          "Top 50 items",
          "Top 50 items",
          "Top 50 items",
          "Top 50 items",
          ""
         ],
         "type": "treemap",
         "values": {
          "bdata": "AAAAAAAAKEAAAAAAAAAYQAAAAAAAACBAAAAAAAAAGEAAAAAAAAAYQAAAAAAAAABAAAAAAAAAGEAAAAAAAAAoQAAAAAAAAChAAAAAAAAAQEAAAAAAAAAYQAAAAAAAABhAAAAAAAAAIEAAAAAAAAAYQAAAAAAAABhAAAAAAAAACEAAAAAAAAAAQAAAAAAAAAhAAAAAAAAACEAAAAAAAAAQQAAAAAAAABBAAAAAAAAAGEAAAAAAAAAIQAAAAAAAAAhAAAAAAAAACEAAAAAAAAAIQAAAAAAAADhAAAAAAAAAOEAAAAAAAAAoQAAAAAAAAChAAAAAAAAAOEAAAAAAAABIQAAAAAAAADhAAAAAAAAAMkAAAAAAAAA4QAAAAAAAADhAAAAAAAAAOEAAAAAAAAA4QAAAAAAAADRAAAAAAAAAOEAAAAAAAAA4QAAAAAAAAChAAAAAAAAAOEAAAAAAAAA4QAAAAAAAAEJAAAAAAAAACEAAAAAAAABUQAAAAAAA4IVA",
          "dtype": "f8"
         }
        }
       ],
       "layout": {
        "coloraxis": {
         "colorbar": {
          "title": {
           "text": "Quantity"
          }
         },
         "colorscale": [
          [
           0,
           "rgb(247,251,255)"
          ],
          [
           0.125,
           "rgb(222,235,247)"
          ],
          [
           0.25,
           "rgb(198,219,239)"
          ],
          [
           0.375,
           "rgb(158,202,225)"
          ],
          [
           0.5,
           "rgb(107,174,214)"
          ],
          [
           0.625,
           "rgb(66,146,198)"
          ],
          [
           0.75,
           "rgb(33,113,181)"
          ],
          [
           0.875,
           "rgb(8,81,156)"
          ],
          [
           1,
           "rgb(8,48,107)"
          ]
         ]
        },
        "legend": {
         "tracegroupgap": 0
        },
        "margin": {
         "t": 60
        },
        "template": {
         "data": {
          "bar": [
           {
            "error_x": {
             "color": "#2a3f5f"
            },
            "error_y": {
             "color": "#2a3f5f"
            },
            "marker": {
             "line": {
              "color": "#E5ECF6",
              "width": 0.5
             },
             "pattern": {
              "fillmode": "overlay",
              "size": 10,
              "solidity": 0.2
             }
            },
            "type": "bar"
           }
          ],
          "barpolar": [
           {
            "marker": {
             "line": {
              "color": "#E5ECF6",
              "width": 0.5
             },
             "pattern": {
              "fillmode": "overlay",
              "size": 10,
              "solidity": 0.2
             }
            },
            "type": "barpolar"
           }
          ],
          "carpet": [
           {
            "aaxis": {
             "endlinecolor": "#2a3f5f",
             "gridcolor": "white",
             "linecolor": "white",
             "minorgridcolor": "white",
             "startlinecolor": "#2a3f5f"
            },
            "baxis": {
             "endlinecolor": "#2a3f5f",
             "gridcolor": "white",
             "linecolor": "white",
             "minorgridcolor": "white",
             "startlinecolor": "#2a3f5f"
            },
            "type": "carpet"
           }
          ],
          "choropleth": [
           {
            "colorbar": {
             "outlinewidth": 0,
             "ticks": ""
            },
            "type": "choropleth"
           }
          ],
          "contour": [
           {
            "colorbar": {
             "outlinewidth": 0,
             "ticks": ""
            },
            "colorscale": [
             [
              0,
              "#0d0887"
             ],
             [
              0.1111111111111111,
              "#46039f"
             ],
             [
              0.2222222222222222,
              "#7201a8"
             ],
             [
              0.3333333333333333,
              "#9c179e"
             ],
             [
              0.4444444444444444,
              "#bd3786"
             ],
             [
              0.5555555555555556,
              "#d8576b"
             ],
             [
              0.6666666666666666,
              "#ed7953"
             ],
             [
              0.7777777777777778,
              "#fb9f3a"
             ],
             [
              0.8888888888888888,
              "#fdca26"
             ],
             [
              1,
              "#f0f921"
             ]
            ],
            "type": "contour"
           }
          ],
          "contourcarpet": [
           {
            "colorbar": {
             "outlinewidth": 0,
             "ticks": ""
            },
            "type": "contourcarpet"
           }
          ],
          "heatmap": [
           {
            "colorbar": {
             "outlinewidth": 0,
             "ticks": ""
            },
            "colorscale": [
             [
              0,
              "#0d0887"
             ],
             [
              0.1111111111111111,
              "#46039f"
             ],
             [
              0.2222222222222222,
              "#7201a8"
             ],
             [
              0.3333333333333333,
              "#9c179e"
             ],
             [
              0.4444444444444444,
              "#bd3786"
             ],
             [
              0.5555555555555556,
              "#d8576b"
             ],
             [
              0.6666666666666666,
              "#ed7953"
             ],
             [
              0.7777777777777778,
              "#fb9f3a"
             ],
             [
              0.8888888888888888,
              "#fdca26"
             ],
             [
              1,
              "#f0f921"
             ]
            ],
            "type": "heatmap"
           }
          ],
          "histogram": [
           {
            "marker": {
             "pattern": {
              "fillmode": "overlay",
              "size": 10,
              "solidity": 0.2
             }
            },
            "type": "histogram"
           }
          ],
          "histogram2d": [
           {
            "colorbar": {
             "outlinewidth": 0,
             "ticks": ""
            },
            "colorscale": [
             [
              0,
              "#0d0887"
             ],
             [
              0.1111111111111111,
              "#46039f"
             ],
             [
              0.2222222222222222,
              "#7201a8"
             ],
             [
              0.3333333333333333,
              "#9c179e"
             ],
             [
              0.4444444444444444,
              "#bd3786"
             ],
             [
              0.5555555555555556,
              "#d8576b"
             ],
             [
              0.6666666666666666,
              "#ed7953"
             ],
             [
              0.7777777777777778,
              "#fb9f3a"
             ],
             [
              0.8888888888888888,
              "#fdca26"
             ],
             [
              1,
              "#f0f921"
             ]
            ],
            "type": "histogram2d"
           }
          ],
          "histogram2dcontour": [
           {
            "colorbar": {
             "outlinewidth": 0,
             "ticks": ""
            },
            "colorscale": [
             [
              0,
              "#0d0887"
             ],
             [
              0.1111111111111111,
              "#46039f"
             ],
             [
              0.2222222222222222,
              "#7201a8"
             ],
             [
              0.3333333333333333,
              "#9c179e"
             ],
             [
              0.4444444444444444,
              "#bd3786"
             ],
             [
              0.5555555555555556,
              "#d8576b"
             ],
             [
              0.6666666666666666,
              "#ed7953"
             ],
             [
              0.7777777777777778,
              "#fb9f3a"
             ],
             [
              0.8888888888888888,
              "#fdca26"
             ],
             [
              1,
              "#f0f921"
             ]
            ],
            "type": "histogram2dcontour"
           }
          ],
          "mesh3d": [
           {
            "colorbar": {
             "outlinewidth": 0,
             "ticks": ""
            },
            "type": "mesh3d"
           }
          ],
          "parcoords": [
           {
            "line": {
             "colorbar": {
              "outlinewidth": 0,
              "ticks": ""
             }
            },
            "type": "parcoords"
           }
          ],
          "pie": [
           {
            "automargin": true,
            "type": "pie"
           }
          ],
          "scatter": [
           {
            "fillpattern": {
             "fillmode": "overlay",
             "size": 10,
             "solidity": 0.2
            },
            "type": "scatter"
           }
          ],
          "scatter3d": [
           {
            "line": {
             "colorbar": {
              "outlinewidth": 0,
              "ticks": ""
             }
            },
            "marker": {
             "colorbar": {
              "outlinewidth": 0,
              "ticks": ""
             }
            },
            "type": "scatter3d"
           }
          ],
          "scattercarpet": [
           {
            "marker": {
             "colorbar": {
              "outlinewidth": 0,
              "ticks": ""
             }
            },
            "type": "scattercarpet"
           }
          ],
          "scattergeo": [
           {
            "marker": {
             "colorbar": {
              "outlinewidth": 0,
              "ticks": ""
             }
            },
            "type": "scattergeo"
           }
          ],
          "scattergl": [
           {
            "marker": {
             "colorbar": {
              "outlinewidth": 0,
              "ticks": ""
             }
            },
            "type": "scattergl"
           }
          ],
          "scattermap": [
           {
            "marker": {
             "colorbar": {
              "outlinewidth": 0,
              "ticks": ""
             }
            },
            "type": "scattermap"
           }
          ],
          "scattermapbox": [
           {
            "marker": {
             "colorbar": {
              "outlinewidth": 0,
              "ticks": ""
             }
            },
            "type": "scattermapbox"
           }
          ],
          "scatterpolar": [
           {
            "marker": {
             "colorbar": {
              "outlinewidth": 0,
              "ticks": ""
             }
            },
            "type": "scatterpolar"
           }
          ],
          "scatterpolargl": [
           {
            "marker": {
             "colorbar": {
              "outlinewidth": 0,
              "ticks": ""
             }
            },
            "type": "scatterpolargl"
           }
          ],
          "scatterternary": [
           {
            "marker": {
             "colorbar": {
              "outlinewidth": 0,
              "ticks": ""
             }
            },
            "type": "scatterternary"
           }
          ],
          "surface": [
           {
            "colorbar": {
             "outlinewidth": 0,
             "ticks": ""
            },
            "colorscale": [
             [
              0,
              "#0d0887"
             ],
             [
              0.1111111111111111,
              "#46039f"
             ],
             [
              0.2222222222222222,
              "#7201a8"
             ],
             [
              0.3333333333333333,
              "#9c179e"
             ],
             [
              0.4444444444444444,
              "#bd3786"
             ],
             [
              0.5555555555555556,
              "#d8576b"
             ],
             [
              0.6666666666666666,
              "#ed7953"
             ],
             [
              0.7777777777777778,
              "#fb9f3a"
             ],
             [
              0.8888888888888888,
              "#fdca26"
             ],
             [
              1,
              "#f0f921"
             ]
            ],
            "type": "surface"
           }
          ],
          "table": [
           {
            "cells": {
             "fill": {
              "color": "#EBF0F8"
             },
             "line": {
              "color": "white"
             }
            },
            "header": {
             "fill": {
              "color": "#C8D4E3"
             },
             "line": {
              "color": "white"
             }
            },
            "type": "table"
           }
          ]
         },
         "layout": {
          "annotationdefaults": {
           "arrowcolor": "#2a3f5f",
           "arrowhead": 0,
           "arrowwidth": 1
          },
          "autotypenumbers": "strict",
          "coloraxis": {
           "colorbar": {
            "outlinewidth": 0,
            "ticks": ""
           }
          },
          "colorscale": {
           "diverging": [
            [
             0,
             "#8e0152"
            ],
            [
             0.1,
             "#c51b7d"
            ],
            [
             0.2,
             "#de77ae"
            ],
            [
             0.3,
             "#f1b6da"
            ],
            [
             0.4,
             "#fde0ef"
            ],
            [
             0.5,
             "#f7f7f7"
            ],
            [
             0.6,
             "#e6f5d0"
            ],
            [
             0.7,
             "#b8e186"
            ],
            [
             0.8,
             "#7fbc41"
            ],
            [
             0.9,
             "#4d9221"
            ],
            [
             1,
             "#276419"
            ]
           ],
           "sequential": [
            [
             0,
             "#0d0887"
            ],
            [
             0.1111111111111111,
             "#46039f"
            ],
            [
             0.2222222222222222,
             "#7201a8"
            ],
            [
             0.3333333333333333,
             "#9c179e"
            ],
            [
             0.4444444444444444,
             "#bd3786"
            ],
            [
             0.5555555555555556,
             "#d8576b"
            ],
            [
             0.6666666666666666,
             "#ed7953"
            ],
            [
             0.7777777777777778,
             "#fb9f3a"
            ],
            [
             0.8888888888888888,
             "#fdca26"
            ],
            [
             1,
             "#f0f921"
            ]
           ],
           "sequentialminus": [
            [
             0,
             "#0d0887"
            ],
            [
             0.1111111111111111,
             "#46039f"
            ],
            [
             0.2222222222222222,
             "#7201a8"
            ],
            [
             0.3333333333333333,
             "#9c179e"
            ],
            [
             0.4444444444444444,
             "#bd3786"
            ],
            [
             0.5555555555555556,
             "#d8576b"
            ],
            [
             0.6666666666666666,
             "#ed7953"
            ],
            [
             0.7777777777777778,
             "#fb9f3a"
            ],
            [
             0.8888888888888888,
             "#fdca26"
            ],
            [
             1,
             "#f0f921"
            ]
           ]
          },
          "colorway": [
           "#636efa",
           "#EF553B",
           "#00cc96",
           "#ab63fa",
           "#FFA15A",
           "#19d3f3",
           "#FF6692",
           "#B6E880",
           "#FF97FF",
           "#FECB52"
          ],
          "font": {
           "color": "#2a3f5f"
          },
          "geo": {
           "bgcolor": "white",
           "lakecolor": "white",
           "landcolor": "#E5ECF6",
           "showlakes": true,
           "showland": true,
           "subunitcolor": "white"
          },
          "hoverlabel": {
           "align": "left"
          },
          "hovermode": "closest",
          "mapbox": {
           "style": "light"
          },
          "paper_bgcolor": "white",
          "plot_bgcolor": "#E5ECF6",
          "polar": {
           "angularaxis": {
            "gridcolor": "white",
            "linecolor": "white",
            "ticks": ""
           },
           "bgcolor": "#E5ECF6",
           "radialaxis": {
            "gridcolor": "white",
            "linecolor": "white",
            "ticks": ""
           }
          },
          "scene": {
           "xaxis": {
            "backgroundcolor": "#E5ECF6",
            "gridcolor": "white",
            "gridwidth": 2,
            "linecolor": "white",
            "showbackground": true,
            "ticks": "",
            "zerolinecolor": "white"
           },
           "yaxis": {
            "backgroundcolor": "#E5ECF6",
            "gridcolor": "white",
            "gridwidth": 2,
            "linecolor": "white",
            "showbackground": true,
            "ticks": "",
            "zerolinecolor": "white"
           },
           "zaxis": {
            "backgroundcolor": "#E5ECF6",
            "gridcolor": "white",
            "gridwidth": 2,
            "linecolor": "white",
            "showbackground": true,
            "ticks": "",
            "zerolinecolor": "white"
           }
          },
          "shapedefaults": {
           "line": {
            "color": "#2a3f5f"
           }
          },
          "ternary": {
           "aaxis": {
            "gridcolor": "white",
            "linecolor": "white",
            "ticks": ""
           },
           "baxis": {
            "gridcolor": "white",
            "linecolor": "white",
            "ticks": ""
           },
           "bgcolor": "#E5ECF6",
           "caxis": {
            "gridcolor": "white",
            "linecolor": "white",
            "ticks": ""
           }
          },
          "title": {
           "x": 0.05
          },
          "xaxis": {
           "automargin": true,
           "gridcolor": "white",
           "linecolor": "white",
           "ticks": "",
           "title": {
            "standoff": 15
           },
           "zerolinecolor": "white",
           "zerolinewidth": 2
          },
          "yaxis": {
           "automargin": true,
           "gridcolor": "white",
           "linecolor": "white",
           "ticks": "",
           "title": {
            "standoff": 15
           },
           "zerolinecolor": "white",
           "zerolinewidth": 2
          }
         }
        }
       }
      }
     },
     "metadata": {},
     "output_type": "display_data"
    }
   ],
   "source": [
    "# Plot the top 50 items using TreeMap.\n",
    "df[\"all\"] = \"Top 50 items\"\n",
    "fig = px.treemap(\n",
    "    df.head(50), path=[\"all\", \"Description\"], values=\"Quantity\",\n",
    "    color=df[\"Quantity\"].head(50), hover_data=[\"Description\"],\n",
    "    color_continuous_scale=\"Blues\",\n",
    ")\n",
    "fig.show()"
   ]
  }
 ],
 "metadata": {
  "kernelspec": {
   "display_name": "damin2025",
   "language": "python",
   "name": "python3"
  },
  "language_info": {
   "codemirror_mode": {
    "name": "ipython",
    "version": 3
   },
   "file_extension": ".py",
   "mimetype": "text/x-python",
   "name": "python",
   "nbconvert_exporter": "python",
   "pygments_lexer": "ipython3",
   "version": "3.12.11"
  }
 },
 "nbformat": 4,
 "nbformat_minor": 5
}
